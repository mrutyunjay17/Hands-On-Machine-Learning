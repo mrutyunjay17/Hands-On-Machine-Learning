{
 "cells": [
  {
   "cell_type": "markdown",
   "id": "aef557e5-62e6-4fdb-8cbf-33dd95cffcac",
   "metadata": {},
   "source": [
    "# Web Scrapping using BeautifulSoup"
   ]
  },
  {
   "cell_type": "code",
   "execution_count": 1,
   "id": "4860b65b-5628-4dc7-a39a-e1cac0993b2e",
   "metadata": {},
   "outputs": [],
   "source": [
    "import requests\n",
    "from bs4 import BeautifulSoup"
   ]
  },
  {
   "cell_type": "code",
   "execution_count": 2,
   "id": "c4202727-cfe0-4284-964f-6134514d54ca",
   "metadata": {},
   "outputs": [
    {
     "data": {
      "text/plain": [
       "<Response [200]>"
      ]
     },
     "execution_count": 2,
     "metadata": {},
     "output_type": "execute_result"
    }
   ],
   "source": [
    "base_site = \"https://en.wikipedia.org/wiki/Music\"\n",
    "response = requests.get(base_site)\n",
    "response"
   ]
  },
  {
   "cell_type": "code",
   "execution_count": 3,
   "id": "083a0c1c-a1a8-443e-b7d8-ce3b481ea513",
   "metadata": {},
   "outputs": [
    {
     "data": {
      "text/plain": [
       "b'<!DOCTYPE html>\\n<html class=\"client-nojs\" lang=\"en\" dir=\"ltr\">\\n<head>\\n<meta charset=\"UTF-8\"/>\\n<title'"
      ]
     },
     "execution_count": 3,
     "metadata": {},
     "output_type": "execute_result"
    }
   ],
   "source": [
    "html = response.content\n",
    "html[:100]"
   ]
  },
  {
   "cell_type": "code",
   "execution_count": 4,
   "id": "4b214c81-3471-43fa-a288-14fc7f088279",
   "metadata": {},
   "outputs": [],
   "source": [
    "soup = BeautifulSoup(html, \"html.parser\")\n"
   ]
  },
  {
   "cell_type": "markdown",
   "id": "19e00269-c3cc-4d14-b4ad-20a9c2593b89",
   "metadata": {},
   "source": [
    "## Exporting HTML as file"
   ]
  },
  {
   "cell_type": "code",
   "execution_count": 5,
   "id": "78d66d78-7f83-40dc-b4dd-9b058b1af721",
   "metadata": {},
   "outputs": [],
   "source": [
    "with open(\"wiki_response.html\", 'wb') as file:\n",
    "    file.write(soup.prettify(\"utf-8\"))"
   ]
  },
  {
   "cell_type": "markdown",
   "id": "0cc347a4-a5b5-4601-8808-c14db103c5a7",
   "metadata": {},
   "source": [
    "## Searching and navigating the HTML tree"
   ]
  },
  {
   "cell_type": "markdown",
   "id": "c381f400-f4ea-43e7-a89f-71da1c988837",
   "metadata": {},
   "source": [
    "### Searching - find() and find_all()"
   ]
  },
  {
   "cell_type": "code",
   "execution_count": 7,
   "id": "a8bc2477-5da7-40b9-b56e-e4f229d1709e",
   "metadata": {
    "tags": []
   },
   "outputs": [
    {
     "data": {
      "text/plain": [
       "<head>\n",
       "<meta charset=\"utf-8\"/>\n",
       "<title>Music - Wikipedia</title>\n",
       "<script>document.documentElement.className=\"client-js\";RLCONF={\"wgBreakFrames\":!1,\"wgSeparatorTransformTable\":[\"\",\"\"],\"wgDigitTransformTable\":[\"\",\"\"],\"wgDefaultDateFormat\":\"dmy\",\"wgMonthNames\":[\"\",\"January\",\"February\",\"March\",\"April\",\"May\",\"June\",\"July\",\"August\",\"September\",\"October\",\"November\",\"December\"],\"wgRequestId\":\"f6ff61e4-2aaf-4937-923d-ccd7ac5632ec\",\"wgCSPNonce\":!1,\"wgCanonicalNamespace\":\"\",\"wgCanonicalSpecialPageName\":!1,\"wgNamespaceNumber\":0,\"wgPageName\":\"Music\",\"wgTitle\":\"Music\",\"wgCurRevisionId\":1050711744,\"wgRevisionId\":1050711744,\"wgArticleId\":18839,\"wgIsArticle\":!0,\"wgIsRedirect\":!1,\"wgAction\":\"view\",\"wgUserName\":null,\"wgUserGroups\":[\"*\"],\"wgCategories\":[\"All articles with incomplete citations\",\"Articles with incomplete citations from July 2019\",\"CS1 maint: archived copy as title\",\"CS1: Julian–Gregorian uncertainty\",\"Webarchive template wayback links\",\"Pages containing links to subscription-only content\",\n",
       "\"Wikipedia articles needing time reference citations from February 2020\",\"Articles with short description\",\"Short description is different from Wikidata\",\"Wikipedia indefinitely semi-protected pages\",\"Wikipedia indefinitely move-protected pages\",\"Articles needing additional references from October 2021\",\"All articles needing additional references\",\"Articles containing Ancient Greek (to 1453)-language text\",\"Articles containing Middle English (1100-1500)-language text\",\"Articles containing Old French (842-ca. 1400)-language text\",\"Articles containing Latin-language text\",\"Articles containing Spanish-language text\",\"Articles containing Italian-language text\",\"Articles containing Old High German (ca. 750-1050)-language text\",\"Articles containing German-language text\",\"Articles containing Dutch-language text\",\"Articles containing Danish-language text\",\"All articles lacking reliable references\",\"Articles lacking reliable references from July 2021\",\n",
       "\"Articles with limited geographic scope from October 2021\",\"All articles with unsourced statements\",\"Articles with unsourced statements from September 2015\",\"Articles with unsourced statements from September 2011\",\"Articles with unsourced statements from October 2021\",\"Articles with hAudio microformats\",\"Articles with unsourced quotes\",\"All articles with specifically marked weasel-worded phrases\",\"Articles with specifically marked weasel-worded phrases from October 2021\",\"Articles with unsourced statements from July 2019\",\"Articles with unsourced statements from May 2007\",\"Articles with unsourced statements from January 2012\",\"Articles that may contain original research from October 2021\",\"All articles that may contain original research\",\"All pages needing factual verification\",\"Wikipedia articles needing factual verification from May 2011\",\"CS1 errors: missing title\",\"Wikipedia articles incorporating the Cite Grove template\",\n",
       "\"Wikipedia articles incorporating the Cite Grove template without a link parameter\",\"Pages using Sister project links with hidden wikidata\",\"Pages using Sister project links with default search\",\"Articles with GND identifiers\",\"Articles with BNE identifiers\",\"Articles with BNF identifiers\",\"Articles with LCCN identifiers\",\"Articles with NDL identifiers\",\"Articles with FAST identifiers\",\"Articles with HDS identifiers\",\"Articles with MA identifiers\",\"Articles with NARA identifiers\",\"Music\",\"Main topic articles\",\"Performing arts\",\"Sound\"],\"wgPageContentLanguage\":\"en\",\"wgPageContentModel\":\"wikitext\",\"wgRelevantPageName\":\"Music\",\"wgRelevantArticleId\":18839,\"wgIsProbablyEditable\":!1,\"wgRelevantPageIsProbablyEditable\":!1,\"wgRestrictionEdit\":[\"autoconfirmed\"],\"wgRestrictionMove\":[\"sysop\"],\"wgFlaggedRevsParams\":{\"tags\":{\"status\":{\"levels\":-1}}},\"wgMediaViewerOnClick\":!0,\"wgMediaViewerEnabledByDefault\":!0,\"wgPopupsFlags\":10,\"wgVisualEditor\":{\"pageLanguageCode\":\"en\",\"pageLanguageDir\":\n",
       "\"ltr\",\"pageVariantFallbacks\":\"en\"},\"wgMFDisplayWikibaseDescriptions\":{\"search\":!0,\"nearby\":!0,\"watchlist\":!0,\"tagline\":!1},\"wgWMESchemaEditAttemptStepOversample\":!1,\"wgULSCurrentAutonym\":\"English\",\"wgNoticeProject\":\"wikipedia\",\"wgEditSubmitButtonLabelPublish\":!0,\"wgULSPosition\":\"interlanguage\",\"wgULSisCompactLinksEnabled\":!0,\"wgGENewcomerTasksGuidanceEnabled\":!0,\"wgGEAskQuestionEnabled\":!1,\"wgGELinkRecommendationsFrontendEnabled\":!1,\"wgCentralAuthMobileDomain\":!1,\"wgWikibaseItemId\":\"Q638\"};RLSTATE={\"ext.globalCssJs.user.styles\":\"ready\",\"site.styles\":\"ready\",\"user.styles\":\"ready\",\"ext.globalCssJs.user\":\"ready\",\"user\":\"ready\",\"user.options\":\"loading\",\"ext.cite.styles\":\"ready\",\"ext.tmh.thumbnail.styles\":\"ready\",\"skins.vector.styles.legacy\":\"ready\",\"jquery.makeCollapsible.styles\":\"ready\",\"ext.visualEditor.desktopArticleTarget.noscript\":\"ready\",\"ext.uls.interlanguage\":\"ready\",\"ext.wikimediaBadges\":\"ready\",\"wikibase.client.init\":\"ready\"};RLPAGEMODULES=[\n",
       "\"ext.cite.ux-enhancements\",\"mw.MediaWikiPlayer.loader\",\"mw.PopUpMediaTransform\",\"mw.TMHGalleryHook.js\",\"ext.scribunto.logs\",\"site\",\"mediawiki.page.ready\",\"jquery.makeCollapsible\",\"mediawiki.toc\",\"skins.vector.legacy.js\",\"ext.gadget.ReferenceTooltips\",\"ext.gadget.charinsert\",\"ext.gadget.extra-toolbar-buttons\",\"ext.gadget.refToolbar\",\"ext.gadget.switcher\",\"mmv.head\",\"mmv.bootstrap.autostart\",\"ext.popups\",\"ext.visualEditor.desktopArticleTarget.init\",\"ext.visualEditor.targetLoader\",\"ext.eventLogging\",\"ext.wikimediaEvents\",\"ext.navigationTiming\",\"ext.uls.compactlinks\",\"ext.uls.interface\",\"ext.cx.eventlogging.campaigns\",\"ext.centralNotice.geoIP\",\"ext.centralNotice.startUp\",\"ext.centralauth.centralautologin\",\"ext.growthExperiments.SuggestedEditSession\"];</script>\n",
       "<script>(RLQ=window.RLQ||[]).push(function(){mw.loader.implement(\"user.options@1hzgi\",function($,jQuery,require,module){/*@nomin*/mw.user.tokens.set({\"patrolToken\":\"+\\\\\",\"watchToken\":\"+\\\\\",\"csrfToken\":\"+\\\\\"});\n",
       "});});</script>\n",
       "<link href=\"/w/load.php?lang=en&amp;modules=ext.cite.styles%7Cext.tmh.thumbnail.styles%7Cext.uls.interlanguage%7Cext.visualEditor.desktopArticleTarget.noscript%7Cext.wikimediaBadges%7Cjquery.makeCollapsible.styles%7Cskins.vector.styles.legacy%7Cwikibase.client.init&amp;only=styles&amp;skin=vector\" rel=\"stylesheet\"/>\n",
       "<script async=\"\" src=\"/w/load.php?lang=en&amp;modules=startup&amp;only=scripts&amp;raw=1&amp;skin=vector\"></script>\n",
       "<meta content=\"\" name=\"ResourceLoaderDynamicStyles\"/>\n",
       "<link href=\"/w/load.php?lang=en&amp;modules=site.styles&amp;only=styles&amp;skin=vector\" rel=\"stylesheet\"/>\n",
       "<meta content=\"MediaWiki 1.38.0-wmf.4\" name=\"generator\"/>\n",
       "<meta content=\"origin\" name=\"referrer\"/>\n",
       "<meta content=\"origin-when-crossorigin\" name=\"referrer\"/>\n",
       "<meta content=\"origin-when-cross-origin\" name=\"referrer\"/>\n",
       "<meta content=\"telephone=no\" name=\"format-detection\"/>\n",
       "<meta content=\"https://upload.wikimedia.org/wikipedia/commons/thumb/d/dd/Fran%C3%A7ois_Boucher%2C_Allegory_of_Music%2C_1764%2C_NGA_32680.jpg/1200px-Fran%C3%A7ois_Boucher%2C_Allegory_of_Music%2C_1764%2C_NGA_32680.jpg\" property=\"og:image\"/>\n",
       "<meta content=\"Music - Wikipedia\" property=\"og:title\"/>\n",
       "<meta content=\"website\" property=\"og:type\"/>\n",
       "<link href=\"//upload.wikimedia.org\" rel=\"preconnect\"/>\n",
       "<link href=\"//en.m.wikipedia.org/wiki/Music\" media=\"only screen and (max-width: 720px)\" rel=\"alternate\"/>\n",
       "<link href=\"/static/apple-touch/wikipedia.png\" rel=\"apple-touch-icon\"/>\n",
       "<link href=\"/static/favicon/wikipedia.ico\" rel=\"shortcut icon\"/>\n",
       "<link href=\"/w/opensearch_desc.php\" rel=\"search\" title=\"Wikipedia (en)\" type=\"application/opensearchdescription+xml\"/>\n",
       "<link href=\"//en.wikipedia.org/w/api.php?action=rsd\" rel=\"EditURI\" type=\"application/rsd+xml\"/>\n",
       "<link href=\"https://creativecommons.org/licenses/by-sa/3.0/\" rel=\"license\"/>\n",
       "<link href=\"https://en.wikipedia.org/wiki/Music\" rel=\"canonical\"/>\n",
       "<link href=\"//meta.wikimedia.org\" rel=\"dns-prefetch\"/>\n",
       "<link href=\"//login.wikimedia.org\" rel=\"dns-prefetch\"/>\n",
       "</head>"
      ]
     },
     "execution_count": 7,
     "metadata": {},
     "output_type": "execute_result"
    }
   ],
   "source": [
    "soup.find(\"head\")"
   ]
  },
  {
   "cell_type": "code",
   "execution_count": 9,
   "id": "b29d4486-79cf-4079-8663-949a9d070076",
   "metadata": {},
   "outputs": [
    {
     "name": "stdout",
     "output_type": "stream",
     "text": [
      "None\n"
     ]
    }
   ],
   "source": [
    "print(soup.find(\"video\"))  #Does not exists so it actually returns none"
   ]
  },
  {
   "cell_type": "code",
   "execution_count": 10,
   "id": "fc02b12e-580e-41ae-bc28-c14112141224",
   "metadata": {},
   "outputs": [
    {
     "data": {
      "text/plain": [
       "<a id=\"top\"></a>"
      ]
     },
     "execution_count": 10,
     "metadata": {},
     "output_type": "execute_result"
    }
   ],
   "source": [
    "soup.find(\"a\")"
   ]
  },
  {
   "cell_type": "code",
   "execution_count": 12,
   "id": "6dcfd35e-8c0e-4bf5-8a7f-677bfbd7d033",
   "metadata": {
    "tags": []
   },
   "outputs": [
    {
     "data": {
      "text/plain": [
       "[<a id=\"top\"></a>,\n",
       " <a href=\"/wiki/Wikipedia:Protection_policy#semi\" title=\"This article is semi-protected.\"><img alt=\"Page semi-protected\" data-file-height=\"512\" data-file-width=\"512\" decoding=\"async\" height=\"20\" src=\"//upload.wikimedia.org/wikipedia/en/thumb/1/1b/Semi-protection-shackle.svg/20px-Semi-protection-shackle.svg.png\" srcset=\"//upload.wikimedia.org/wikipedia/en/thumb/1/1b/Semi-protection-shackle.svg/30px-Semi-protection-shackle.svg.png 1.5x, //upload.wikimedia.org/wikipedia/en/thumb/1/1b/Semi-protection-shackle.svg/40px-Semi-protection-shackle.svg.png 2x\" width=\"20\"/></a>]"
      ]
     },
     "execution_count": 12,
     "metadata": {},
     "output_type": "execute_result"
    }
   ],
   "source": [
    "links = soup.find_all(\"a\")\n",
    "links[:2]"
   ]
  },
  {
   "cell_type": "code",
   "execution_count": 13,
   "id": "a175a8ae-d239-4650-b3bd-1cb0f7dee564",
   "metadata": {},
   "outputs": [
    {
     "data": {
      "text/plain": [
       "[]"
      ]
     },
     "execution_count": 13,
     "metadata": {},
     "output_type": "execute_result"
    }
   ],
   "source": [
    "soup.find_all(\"video\") #does not exists so return empty list"
   ]
  },
  {
   "cell_type": "code",
   "execution_count": 14,
   "id": "e0ca733e-74be-4db7-b6a2-57625abf20f6",
   "metadata": {},
   "outputs": [
    {
     "data": {
      "text/plain": [
       "2536"
      ]
     },
     "execution_count": 14,
     "metadata": {},
     "output_type": "execute_result"
    }
   ],
   "source": [
    "len(links)"
   ]
  },
  {
   "cell_type": "code",
   "execution_count": 15,
   "id": "79d315e2-07fd-4d3f-9ab2-cc602cb14731",
   "metadata": {},
   "outputs": [],
   "source": [
    "table = soup.find('tbody')"
   ]
  },
  {
   "cell_type": "code",
   "execution_count": 16,
   "id": "192c6374-ff9e-4878-b51b-1113a9de070c",
   "metadata": {},
   "outputs": [
    {
     "data": {
      "text/plain": [
       "<tbody><tr><td class=\"mbox-image\"><div style=\"width:52px\"><a class=\"image\" href=\"/wiki/File:Question_book-new.svg\"><img alt=\"\" data-file-height=\"399\" data-file-width=\"512\" decoding=\"async\" height=\"39\" src=\"//upload.wikimedia.org/wikipedia/en/thumb/9/99/Question_book-new.svg/50px-Question_book-new.svg.png\" srcset=\"//upload.wikimedia.org/wikipedia/en/thumb/9/99/Question_book-new.svg/75px-Question_book-new.svg.png 1.5x, //upload.wikimedia.org/wikipedia/en/thumb/9/99/Question_book-new.svg/100px-Question_book-new.svg.png 2x\" width=\"50\"/></a></div></td><td class=\"mbox-text\"><div class=\"mbox-text-span\">This article <b>needs additional citations for <a href=\"/wiki/Wikipedia:Verifiability\" title=\"Wikipedia:Verifiability\">verification</a></b>.<span class=\"hide-when-compact\"> Please help <a class=\"external text\" href=\"https://en.wikipedia.org/w/index.php?title=Music&amp;action=edit\">improve this article</a> by <a href=\"/wiki/Help:Referencing_for_beginners\" title=\"Help:Referencing for beginners\">adding citations to reliable sources</a>. Unsourced material may be challenged and removed.<br/><small><span class=\"plainlinks\"><i>Find sources:</i> <a class=\"external text\" href=\"//www.google.com/search?as_eq=wikipedia&amp;q=%22Music%22\" rel=\"nofollow\">\"Music\"</a> – <a class=\"external text\" href=\"//www.google.com/search?tbm=nws&amp;q=%22Music%22+-wikipedia\" rel=\"nofollow\">news</a> <b>·</b> <a class=\"external text\" href=\"//www.google.com/search?&amp;q=%22Music%22&amp;tbs=bkt:s&amp;tbm=bks\" rel=\"nofollow\">newspapers</a> <b>·</b> <a class=\"external text\" href=\"//www.google.com/search?tbs=bks:1&amp;q=%22Music%22+-wikipedia\" rel=\"nofollow\">books</a> <b>·</b> <a class=\"external text\" href=\"//scholar.google.com/scholar?q=%22Music%22\" rel=\"nofollow\">scholar</a> <b>·</b> <a class=\"external text\" href=\"https://www.jstor.org/action/doBasicSearch?Query=%22Music%22&amp;acc=on&amp;wc=on\" rel=\"nofollow\">JSTOR</a></span></small></span> <span class=\"date-container\"><i>(<span class=\"date\">October 2021</span>)</i></span><span class=\"hide-when-compact\"><i> (<a href=\"/wiki/Help:Maintenance_template_removal\" title=\"Help:Maintenance template removal\">Learn how and when to remove this template message</a>)</i></span></div></td></tr></tbody>"
      ]
     },
     "execution_count": 16,
     "metadata": {},
     "output_type": "execute_result"
    }
   ],
   "source": [
    "table"
   ]
  },
  {
   "cell_type": "code",
   "execution_count": 17,
   "id": "1e2a67be-3c1e-4ff6-bdce-0f4e39bb7c7a",
   "metadata": {},
   "outputs": [
    {
     "data": {
      "text/plain": [
       "bs4.element.Tag"
      ]
     },
     "execution_count": 17,
     "metadata": {},
     "output_type": "execute_result"
    }
   ],
   "source": [
    "type(table)"
   ]
  },
  {
   "cell_type": "code",
   "execution_count": 18,
   "id": "d28c2e94-9532-4054-9ebc-b60f2f54d738",
   "metadata": {},
   "outputs": [
    {
     "data": {
      "text/plain": [
       "[<td class=\"mbox-image\"><div style=\"width:52px\"><a class=\"image\" href=\"/wiki/File:Question_book-new.svg\"><img alt=\"\" data-file-height=\"399\" data-file-width=\"512\" decoding=\"async\" height=\"39\" src=\"//upload.wikimedia.org/wikipedia/en/thumb/9/99/Question_book-new.svg/50px-Question_book-new.svg.png\" srcset=\"//upload.wikimedia.org/wikipedia/en/thumb/9/99/Question_book-new.svg/75px-Question_book-new.svg.png 1.5x, //upload.wikimedia.org/wikipedia/en/thumb/9/99/Question_book-new.svg/100px-Question_book-new.svg.png 2x\" width=\"50\"/></a></div></td>,\n",
       " <td class=\"mbox-text\"><div class=\"mbox-text-span\">This article <b>needs additional citations for <a href=\"/wiki/Wikipedia:Verifiability\" title=\"Wikipedia:Verifiability\">verification</a></b>.<span class=\"hide-when-compact\"> Please help <a class=\"external text\" href=\"https://en.wikipedia.org/w/index.php?title=Music&amp;action=edit\">improve this article</a> by <a href=\"/wiki/Help:Referencing_for_beginners\" title=\"Help:Referencing for beginners\">adding citations to reliable sources</a>. Unsourced material may be challenged and removed.<br/><small><span class=\"plainlinks\"><i>Find sources:</i> <a class=\"external text\" href=\"//www.google.com/search?as_eq=wikipedia&amp;q=%22Music%22\" rel=\"nofollow\">\"Music\"</a> – <a class=\"external text\" href=\"//www.google.com/search?tbm=nws&amp;q=%22Music%22+-wikipedia\" rel=\"nofollow\">news</a> <b>·</b> <a class=\"external text\" href=\"//www.google.com/search?&amp;q=%22Music%22&amp;tbs=bkt:s&amp;tbm=bks\" rel=\"nofollow\">newspapers</a> <b>·</b> <a class=\"external text\" href=\"//www.google.com/search?tbs=bks:1&amp;q=%22Music%22+-wikipedia\" rel=\"nofollow\">books</a> <b>·</b> <a class=\"external text\" href=\"//scholar.google.com/scholar?q=%22Music%22\" rel=\"nofollow\">scholar</a> <b>·</b> <a class=\"external text\" href=\"https://www.jstor.org/action/doBasicSearch?Query=%22Music%22&amp;acc=on&amp;wc=on\" rel=\"nofollow\">JSTOR</a></span></small></span> <span class=\"date-container\"><i>(<span class=\"date\">October 2021</span>)</i></span><span class=\"hide-when-compact\"><i> (<a href=\"/wiki/Help:Maintenance_template_removal\" title=\"Help:Maintenance template removal\">Learn how and when to remove this template message</a>)</i></span></div></td>]"
      ]
     },
     "execution_count": 18,
     "metadata": {},
     "output_type": "execute_result"
    }
   ],
   "source": [
    "table.find_all('td')"
   ]
  },
  {
   "cell_type": "code",
   "execution_count": 21,
   "id": "39251561-9438-4252-a0e1-058aa30f88da",
   "metadata": {},
   "outputs": [
    {
     "data": {
      "text/plain": [
       "2"
      ]
     },
     "execution_count": 21,
     "metadata": {},
     "output_type": "execute_result"
    }
   ],
   "source": [
    "len(table.find_all('td'))"
   ]
  },
  {
   "cell_type": "markdown",
   "id": "1117c027-338b-4b93-897f-51afc82a14a1",
   "metadata": {},
   "source": [
    "### Navigating Tree"
   ]
  },
  {
   "cell_type": "code",
   "execution_count": 22,
   "id": "23fe7d52-958c-43ae-8e7f-7577c15dcc26",
   "metadata": {},
   "outputs": [
    {
     "data": {
      "text/plain": [
       "[<tr><td class=\"mbox-image\"><div style=\"width:52px\"><a class=\"image\" href=\"/wiki/File:Question_book-new.svg\"><img alt=\"\" data-file-height=\"399\" data-file-width=\"512\" decoding=\"async\" height=\"39\" src=\"//upload.wikimedia.org/wikipedia/en/thumb/9/99/Question_book-new.svg/50px-Question_book-new.svg.png\" srcset=\"//upload.wikimedia.org/wikipedia/en/thumb/9/99/Question_book-new.svg/75px-Question_book-new.svg.png 1.5x, //upload.wikimedia.org/wikipedia/en/thumb/9/99/Question_book-new.svg/100px-Question_book-new.svg.png 2x\" width=\"50\"/></a></div></td><td class=\"mbox-text\"><div class=\"mbox-text-span\">This article <b>needs additional citations for <a href=\"/wiki/Wikipedia:Verifiability\" title=\"Wikipedia:Verifiability\">verification</a></b>.<span class=\"hide-when-compact\"> Please help <a class=\"external text\" href=\"https://en.wikipedia.org/w/index.php?title=Music&amp;action=edit\">improve this article</a> by <a href=\"/wiki/Help:Referencing_for_beginners\" title=\"Help:Referencing for beginners\">adding citations to reliable sources</a>. Unsourced material may be challenged and removed.<br/><small><span class=\"plainlinks\"><i>Find sources:</i> <a class=\"external text\" href=\"//www.google.com/search?as_eq=wikipedia&amp;q=%22Music%22\" rel=\"nofollow\">\"Music\"</a> – <a class=\"external text\" href=\"//www.google.com/search?tbm=nws&amp;q=%22Music%22+-wikipedia\" rel=\"nofollow\">news</a> <b>·</b> <a class=\"external text\" href=\"//www.google.com/search?&amp;q=%22Music%22&amp;tbs=bkt:s&amp;tbm=bks\" rel=\"nofollow\">newspapers</a> <b>·</b> <a class=\"external text\" href=\"//www.google.com/search?tbs=bks:1&amp;q=%22Music%22+-wikipedia\" rel=\"nofollow\">books</a> <b>·</b> <a class=\"external text\" href=\"//scholar.google.com/scholar?q=%22Music%22\" rel=\"nofollow\">scholar</a> <b>·</b> <a class=\"external text\" href=\"https://www.jstor.org/action/doBasicSearch?Query=%22Music%22&amp;acc=on&amp;wc=on\" rel=\"nofollow\">JSTOR</a></span></small></span> <span class=\"date-container\"><i>(<span class=\"date\">October 2021</span>)</i></span><span class=\"hide-when-compact\"><i> (<a href=\"/wiki/Help:Maintenance_template_removal\" title=\"Help:Maintenance template removal\">Learn how and when to remove this template message</a>)</i></span></div></td></tr>]"
      ]
     },
     "execution_count": 22,
     "metadata": {},
     "output_type": "execute_result"
    }
   ],
   "source": [
    "table.contents"
   ]
  },
  {
   "cell_type": "code",
   "execution_count": 24,
   "id": "c7a01104-cdd9-4537-89d2-fe6918ca7514",
   "metadata": {},
   "outputs": [
    {
     "data": {
      "text/plain": [
       "1"
      ]
     },
     "execution_count": 24,
     "metadata": {},
     "output_type": "execute_result"
    }
   ],
   "source": [
    "len(table.contents)"
   ]
  },
  {
   "cell_type": "code",
   "execution_count": 25,
   "id": "07960ab5-5f41-4894-880c-4b9a07f64374",
   "metadata": {},
   "outputs": [
    {
     "data": {
      "text/plain": [
       "<table class=\"box-More_citations_needed plainlinks metadata ambox ambox-content ambox-Refimprove\" role=\"presentation\"><tbody><tr><td class=\"mbox-image\"><div style=\"width:52px\"><a class=\"image\" href=\"/wiki/File:Question_book-new.svg\"><img alt=\"\" data-file-height=\"399\" data-file-width=\"512\" decoding=\"async\" height=\"39\" src=\"//upload.wikimedia.org/wikipedia/en/thumb/9/99/Question_book-new.svg/50px-Question_book-new.svg.png\" srcset=\"//upload.wikimedia.org/wikipedia/en/thumb/9/99/Question_book-new.svg/75px-Question_book-new.svg.png 1.5x, //upload.wikimedia.org/wikipedia/en/thumb/9/99/Question_book-new.svg/100px-Question_book-new.svg.png 2x\" width=\"50\"/></a></div></td><td class=\"mbox-text\"><div class=\"mbox-text-span\">This article <b>needs additional citations for <a href=\"/wiki/Wikipedia:Verifiability\" title=\"Wikipedia:Verifiability\">verification</a></b>.<span class=\"hide-when-compact\"> Please help <a class=\"external text\" href=\"https://en.wikipedia.org/w/index.php?title=Music&amp;action=edit\">improve this article</a> by <a href=\"/wiki/Help:Referencing_for_beginners\" title=\"Help:Referencing for beginners\">adding citations to reliable sources</a>. Unsourced material may be challenged and removed.<br/><small><span class=\"plainlinks\"><i>Find sources:</i> <a class=\"external text\" href=\"//www.google.com/search?as_eq=wikipedia&amp;q=%22Music%22\" rel=\"nofollow\">\"Music\"</a> – <a class=\"external text\" href=\"//www.google.com/search?tbm=nws&amp;q=%22Music%22+-wikipedia\" rel=\"nofollow\">news</a> <b>·</b> <a class=\"external text\" href=\"//www.google.com/search?&amp;q=%22Music%22&amp;tbs=bkt:s&amp;tbm=bks\" rel=\"nofollow\">newspapers</a> <b>·</b> <a class=\"external text\" href=\"//www.google.com/search?tbs=bks:1&amp;q=%22Music%22+-wikipedia\" rel=\"nofollow\">books</a> <b>·</b> <a class=\"external text\" href=\"//scholar.google.com/scholar?q=%22Music%22\" rel=\"nofollow\">scholar</a> <b>·</b> <a class=\"external text\" href=\"https://www.jstor.org/action/doBasicSearch?Query=%22Music%22&amp;acc=on&amp;wc=on\" rel=\"nofollow\">JSTOR</a></span></small></span> <span class=\"date-container\"><i>(<span class=\"date\">October 2021</span>)</i></span><span class=\"hide-when-compact\"><i> (<a href=\"/wiki/Help:Maintenance_template_removal\" title=\"Help:Maintenance template removal\">Learn how and when to remove this template message</a>)</i></span></div></td></tr></tbody></table>"
      ]
     },
     "execution_count": 25,
     "metadata": {},
     "output_type": "execute_result"
    }
   ],
   "source": [
    "table.parent"
   ]
  },
  {
   "cell_type": "code",
   "execution_count": 27,
   "id": "a8de78c2-3a36-4c46-86d0-444d4f75febc",
   "metadata": {
    "tags": []
   },
   "outputs": [
    {
     "data": {
      "text/plain": [
       "514"
      ]
     },
     "execution_count": 27,
     "metadata": {},
     "output_type": "execute_result"
    }
   ],
   "source": [
    "len(table.parent.parent)"
   ]
  },
  {
   "cell_type": "markdown",
   "id": "9b93cbeb-2c7c-4ce9-aff5-fb64a7c3428c",
   "metadata": {},
   "source": [
    "### Searching the Attributes \n",
    "Finding below.  \n",
    "\n",
    "```HTML\n",
    "    <div id=\"siteSub\">...</div>\n",
    "```"
   ]
  },
  {
   "cell_type": "code",
   "execution_count": 28,
   "id": "a75f3a73-6a2f-4403-905e-ba3740b22194",
   "metadata": {},
   "outputs": [
    {
     "data": {
      "text/plain": [
       "<div class=\"noprint\" id=\"siteSub\">From Wikipedia, the free encyclopedia</div>"
      ]
     },
     "execution_count": 28,
     "metadata": {},
     "output_type": "execute_result"
    }
   ],
   "source": [
    "soup.find('div', id='siteSub')"
   ]
  },
  {
   "cell_type": "markdown",
   "id": "c4355d16-b23f-48a0-a90d-73490d88c306",
   "metadata": {},
   "source": [
    "### Passing attributes as function"
   ]
  },
  {
   "cell_type": "code",
   "execution_count": 31,
   "id": "aa22f4a0-ec62-48da-bcaa-89fc3ff4476a",
   "metadata": {},
   "outputs": [
    {
     "data": {
      "text/plain": [
       "[<a class=\"mw-jump-link\" href=\"#mw-head\">Jump to navigation</a>,\n",
       " <a class=\"mw-jump-link\" href=\"#searchInput\">Jump to search</a>]"
      ]
     },
     "execution_count": 31,
     "metadata": {},
     "output_type": "execute_result"
    }
   ],
   "source": [
    "soup.find_all('a', class_=\"mw-jump-link\") #since class is reserved python keyword, bs4 uses class_ here"
   ]
  },
  {
   "cell_type": "code",
   "execution_count": 32,
   "id": "bfea6900-2262-46ab-b049-cc650c82105c",
   "metadata": {},
   "outputs": [
    {
     "data": {
      "text/plain": [
       "<a class=\"mw-jump-link\" href=\"#mw-head\">Jump to navigation</a>"
      ]
     },
     "execution_count": 32,
     "metadata": {},
     "output_type": "execute_result"
    }
   ],
   "source": [
    "soup.find('a', class_=\"mw-jump-link\", href = \"#mw-head\")  "
   ]
  },
  {
   "cell_type": "markdown",
   "id": "89c29e7a-9990-4571-bc1b-6536c03cafe3",
   "metadata": {},
   "source": [
    "### Placing the attributes in a dictionary"
   ]
  },
  {
   "cell_type": "code",
   "execution_count": 35,
   "id": "5cb12d16-9708-4b32-825e-a2241427da58",
   "metadata": {},
   "outputs": [
    {
     "data": {
      "text/plain": [
       "<a class=\"mw-jump-link\" href=\"#mw-head\">Jump to navigation</a>"
      ]
     },
     "execution_count": 35,
     "metadata": {},
     "output_type": "execute_result"
    }
   ],
   "source": [
    "soup.find('a', attrs= {'class':'mw-jump-link', 'href':\"#mw-head\"})  #But no need of underscore to class here in dictionary"
   ]
  },
  {
   "cell_type": "code",
   "execution_count": 34,
   "id": "d9fd8aa3-b389-4eda-9455-72c724f0560c",
   "metadata": {},
   "outputs": [
    {
     "data": {
      "text/plain": [
       "<a class=\"mw-jump-link\" href=\"#mw-head\">Jump to navigation</a>"
      ]
     },
     "execution_count": 34,
     "metadata": {},
     "output_type": "execute_result"
    }
   ],
   "source": [
    "soup.find('a', {'class':'mw-jump-link', 'href':\"#mw-head\"})"
   ]
  },
  {
   "cell_type": "markdown",
   "id": "63a09f9d-63fb-47ba-b33c-e2e33d7ced38",
   "metadata": {},
   "source": [
    "## Extracting data from the HTML tree"
   ]
  },
  {
   "cell_type": "code",
   "execution_count": 36,
   "id": "70e2eee8-57f0-474c-8446-639a89ecffc7",
   "metadata": {},
   "outputs": [
    {
     "data": {
      "text/plain": [
       "<a class=\"mw-jump-link\" href=\"#mw-head\">Jump to navigation</a>"
      ]
     },
     "execution_count": 36,
     "metadata": {},
     "output_type": "execute_result"
    }
   ],
   "source": [
    "a = soup.find('a', class_='mw-jump-link')\n",
    "a"
   ]
  },
  {
   "cell_type": "code",
   "execution_count": 37,
   "id": "bfad99d9-4aed-4b81-acc5-d558e93a86cc",
   "metadata": {},
   "outputs": [
    {
     "data": {
      "text/plain": [
       "'a'"
      ]
     },
     "execution_count": 37,
     "metadata": {},
     "output_type": "execute_result"
    }
   ],
   "source": [
    "a.name"
   ]
  },
  {
   "cell_type": "markdown",
   "id": "10b04b3e-6ce6-4a80-a0da-1d2308dc6db4",
   "metadata": {},
   "source": [
    "### Getting the attribute value"
   ]
  },
  {
   "cell_type": "code",
   "execution_count": 38,
   "id": "c0b8b441-e527-4c03-907b-61000cc20050",
   "metadata": {},
   "outputs": [
    {
     "data": {
      "text/plain": [
       "'#mw-head'"
      ]
     },
     "execution_count": 38,
     "metadata": {},
     "output_type": "execute_result"
    }
   ],
   "source": [
    "a['href']"
   ]
  },
  {
   "cell_type": "code",
   "execution_count": 39,
   "id": "e78c4965-2d0b-4802-8456-fa7c85743825",
   "metadata": {},
   "outputs": [
    {
     "data": {
      "text/plain": [
       "['mw-jump-link']"
      ]
     },
     "execution_count": 39,
     "metadata": {},
     "output_type": "execute_result"
    }
   ],
   "source": [
    "a['class']  #Notice it returned list since class can contain multiple values"
   ]
  },
  {
   "cell_type": "code",
   "execution_count": 40,
   "id": "abcfc69f-f097-405c-b20d-47ba0beba143",
   "metadata": {},
   "outputs": [
    {
     "data": {
      "text/plain": [
       "'#mw-head'"
      ]
     },
     "execution_count": 40,
     "metadata": {},
     "output_type": "execute_result"
    }
   ],
   "source": [
    "a.get('href')"
   ]
  },
  {
   "cell_type": "code",
   "execution_count": 41,
   "id": "3313925b-2a03-4b7b-b730-49f58c1b00b2",
   "metadata": {},
   "outputs": [
    {
     "data": {
      "text/plain": [
       "['mw-jump-link']"
      ]
     },
     "execution_count": 41,
     "metadata": {},
     "output_type": "execute_result"
    }
   ],
   "source": [
    "a.get('class')"
   ]
  },
  {
   "cell_type": "markdown",
   "id": "fe283222-f9bc-4b70-a815-1ae84769fcff",
   "metadata": {},
   "source": [
    "### Differences between calling above ways of dictionary"
   ]
  },
  {
   "cell_type": "code",
   "execution_count": 42,
   "id": "012129f1-1d96-4b52-a9d3-59572c8487a7",
   "metadata": {},
   "outputs": [
    {
     "ename": "KeyError",
     "evalue": "'id'",
     "output_type": "error",
     "traceback": [
      "\u001b[1;31m---------------------------------------------------------------------------\u001b[0m",
      "\u001b[1;31mKeyError\u001b[0m                                  Traceback (most recent call last)",
      "\u001b[1;32m<ipython-input-42-546d634c4694>\u001b[0m in \u001b[0;36m<module>\u001b[1;34m\u001b[0m\n\u001b[1;32m----> 1\u001b[1;33m \u001b[0ma\u001b[0m\u001b[1;33m[\u001b[0m\u001b[1;34m'id'\u001b[0m\u001b[1;33m]\u001b[0m\u001b[1;33m\u001b[0m\u001b[1;33m\u001b[0m\u001b[0m\n\u001b[0m",
      "\u001b[1;32m~\\anaconda3\\envs\\opencv\\lib\\site-packages\\bs4\\element.py\u001b[0m in \u001b[0;36m__getitem__\u001b[1;34m(self, key)\u001b[0m\n\u001b[0;32m   1404\u001b[0m         \"\"\"tag[key] returns the value of the 'key' attribute for the Tag,\n\u001b[0;32m   1405\u001b[0m         and throws an exception if it's not there.\"\"\"\n\u001b[1;32m-> 1406\u001b[1;33m         \u001b[1;32mreturn\u001b[0m \u001b[0mself\u001b[0m\u001b[1;33m.\u001b[0m\u001b[0mattrs\u001b[0m\u001b[1;33m[\u001b[0m\u001b[0mkey\u001b[0m\u001b[1;33m]\u001b[0m\u001b[1;33m\u001b[0m\u001b[1;33m\u001b[0m\u001b[0m\n\u001b[0m\u001b[0;32m   1407\u001b[0m \u001b[1;33m\u001b[0m\u001b[0m\n\u001b[0;32m   1408\u001b[0m     \u001b[1;32mdef\u001b[0m \u001b[0m__iter__\u001b[0m\u001b[1;33m(\u001b[0m\u001b[0mself\u001b[0m\u001b[1;33m)\u001b[0m\u001b[1;33m:\u001b[0m\u001b[1;33m\u001b[0m\u001b[1;33m\u001b[0m\u001b[0m\n",
      "\u001b[1;31mKeyError\u001b[0m: 'id'"
     ]
    }
   ],
   "source": [
    "a['id']  #Raises errpr"
   ]
  },
  {
   "cell_type": "code",
   "execution_count": 44,
   "id": "1c1ad8ea-83b1-4447-8e2b-1d59e34f9dad",
   "metadata": {},
   "outputs": [
    {
     "name": "stdout",
     "output_type": "stream",
     "text": [
      "None\n"
     ]
    }
   ],
   "source": [
    "print(a.get('id'))"
   ]
  },
  {
   "cell_type": "code",
   "execution_count": 45,
   "id": "f91daf37-9393-4d1a-985f-22672832392b",
   "metadata": {},
   "outputs": [
    {
     "data": {
      "text/plain": [
       "'None'"
      ]
     },
     "execution_count": 45,
     "metadata": {},
     "output_type": "execute_result"
    }
   ],
   "source": [
    "repr(a.get('id'))"
   ]
  },
  {
   "cell_type": "code",
   "execution_count": 46,
   "id": "68977501-19c6-4c37-a625-9496b1dc18ef",
   "metadata": {},
   "outputs": [
    {
     "data": {
      "text/plain": [
       "{'class': ['mw-jump-link'], 'href': '#mw-head'}"
      ]
     },
     "execution_count": 46,
     "metadata": {},
     "output_type": "execute_result"
    }
   ],
   "source": [
    "a.attrs"
   ]
  },
  {
   "cell_type": "markdown",
   "id": "aff9b229-a92c-43b1-8d29-fa1778886101",
   "metadata": {},
   "source": [
    "## Extracting text \n",
    "### .string vs .text"
   ]
  },
  {
   "cell_type": "code",
   "execution_count": 47,
   "id": "2005e3fb-e9ec-4ef6-9bad-c8a639855aa2",
   "metadata": {},
   "outputs": [
    {
     "data": {
      "text/plain": [
       "'Jump to navigation'"
      ]
     },
     "execution_count": 47,
     "metadata": {},
     "output_type": "execute_result"
    }
   ],
   "source": [
    "a.string"
   ]
  },
  {
   "cell_type": "code",
   "execution_count": 48,
   "id": "6172b91a-e89d-468e-b6b1-72164ccc83fe",
   "metadata": {},
   "outputs": [
    {
     "data": {
      "text/plain": [
       "'Jump to navigation'"
      ]
     },
     "execution_count": 48,
     "metadata": {},
     "output_type": "execute_result"
    }
   ],
   "source": [
    "a.text"
   ]
  },
  {
   "cell_type": "markdown",
   "id": "eaed6597-5e23-4b96-bf60-f80f235c0e9d",
   "metadata": {},
   "source": [
    "#### They exhibit different behabiour when element contains more than one distinct string"
   ]
  },
  {
   "cell_type": "code",
   "execution_count": 50,
   "id": "1071f801-6e49-4697-a46a-d0ad762c298c",
   "metadata": {},
   "outputs": [
    {
     "data": {
      "text/plain": [
       "<p><b>Music</b> is the <a href=\"/wiki/The_arts\" title=\"The arts\">art</a> of arranging <a href=\"/wiki/Sound\" title=\"Sound\">sounds</a> in time through the <a href=\"/wiki/Elements_of_music\" title=\"Elements of music\">elements</a> of melody, harmony, rhythm, and timbre.<sup class=\"reference\" id=\"cite_ref-1\"><a href=\"#cite_note-1\">[1]</a></sup><sup class=\"reference\" id=\"cite_ref-2\"><a href=\"#cite_note-2\">[2]</a></sup> It is one of the <a href=\"/wiki/Cultural_universal\" title=\"Cultural universal\">universal cultural</a> aspects of all human societies. General <a class=\"mw-redirect\" href=\"/wiki/Definitions_of_music\" title=\"Definitions of music\">definitions of music</a> include common elements such as <a href=\"/wiki/Pitch_(music)\" title=\"Pitch (music)\">pitch</a> (which governs <a href=\"/wiki/Melody\" title=\"Melody\">melody</a> and <a href=\"/wiki/Harmony\" title=\"Harmony\">harmony</a>), <a href=\"/wiki/Rhythm\" title=\"Rhythm\">rhythm</a> (and its associated concepts <a href=\"/wiki/Tempo\" title=\"Tempo\">tempo</a>, <a class=\"mw-redirect\" href=\"/wiki/Meter_(music)\" title=\"Meter (music)\">meter</a>, and <a href=\"/wiki/Articulation_(music)\" title=\"Articulation (music)\">articulation</a>), <a href=\"/wiki/Dynamics_(music)\" title=\"Dynamics (music)\">dynamics</a> (loudness and softness), and the sonic qualities of <a href=\"/wiki/Timbre\" title=\"Timbre\">timbre</a> and <a href=\"/wiki/Texture_(music)\" title=\"Texture (music)\">texture</a> (which are sometimes termed the \"color\" of a musical sound). Different <a href=\"/wiki/Music_genre\" title=\"Music genre\">styles or types</a> of music may emphasize, de-emphasize or omit some of these elements. Music is performed with a vast range of <a href=\"/wiki/Musical_instrument\" title=\"Musical instrument\">instruments</a> and vocal techniques ranging from <a href=\"/wiki/Singing\" title=\"Singing\">singing</a> to <a href=\"/wiki/Rapping\" title=\"Rapping\">rapping</a>; there are solely <a class=\"mw-redirect\" href=\"/wiki/Instrumental_music\" title=\"Instrumental music\">instrumental pieces</a>, <a class=\"mw-redirect\" href=\"/wiki/A_capella\" title=\"A capella\">solely vocal pieces</a> (such as songs without instrumental <a href=\"/wiki/Accompaniment\" title=\"Accompaniment\">accompaniment</a>) and pieces that combine singing and instruments. The word derives from <a href=\"/wiki/Greek_language\" title=\"Greek language\">Greek</a> <a class=\"extiw\" href=\"https://en.wiktionary.org/wiki/%CE%BC%CE%BF%CF%85%CF%83%CE%B9%CE%BA%CE%AE#Ancient_Greek\" title=\"wikt:μουσική\">μουσική</a> (<i>mousiké</i>; \"(art) of the <a href=\"/wiki/Muses\" title=\"Muses\">Muses</a>\").<sup class=\"reference\" id=\"cite_ref-perseus.tufts.edu_3-0\"><a href=\"#cite_note-perseus.tufts.edu-3\">[3]</a></sup>\n",
       "</p>"
      ]
     },
     "execution_count": 50,
     "metadata": {},
     "output_type": "execute_result"
    }
   ],
   "source": [
    "p = soup.find_all('p')[1]\n",
    "p"
   ]
  },
  {
   "cell_type": "code",
   "execution_count": 51,
   "id": "176826bd-eb90-4bfe-906d-c0ed9d6bf88e",
   "metadata": {},
   "outputs": [
    {
     "data": {
      "text/plain": [
       "'Music is the art of arranging sounds in time through the elements of melody, harmony, rhythm, and timbre.[1][2] It is one of the universal cultural aspects of all human societies. General definitions of music include common elements such as pitch (which governs melody and harmony), rhythm (and its associated concepts tempo, meter, and articulation), dynamics (loudness and softness), and the sonic qualities of timbre and texture (which are sometimes termed the \"color\" of a musical sound). Different styles or types of music may emphasize, de-emphasize or omit some of these elements. Music is performed with a vast range of instruments and vocal techniques ranging from singing to rapping; there are solely instrumental pieces, solely vocal pieces (such as songs without instrumental accompaniment) and pieces that combine singing and instruments. The word derives from Greek μουσική (mousiké; \"(art) of the Muses\").[3]\\n'"
      ]
     },
     "execution_count": 51,
     "metadata": {},
     "output_type": "execute_result"
    }
   ],
   "source": [
    "p.text"
   ]
  },
  {
   "cell_type": "code",
   "execution_count": 52,
   "id": "636358dd-cdb8-4873-a45f-4abb29153ae2",
   "metadata": {},
   "outputs": [],
   "source": [
    "p.string"
   ]
  },
  {
   "cell_type": "code",
   "execution_count": 54,
   "id": "13011913-2933-4e78-a09e-e7ce389c5e0a",
   "metadata": {},
   "outputs": [
    {
     "data": {
      "text/plain": [
       "'None'"
      ]
     },
     "execution_count": 54,
     "metadata": {},
     "output_type": "execute_result"
    }
   ],
   "source": [
    "repr(p.string)"
   ]
  },
  {
   "cell_type": "code",
   "execution_count": 58,
   "id": "fda8a1b6-380f-4bd6-bff9-5e646dd76e55",
   "metadata": {
    "tags": []
   },
   "outputs": [
    {
     "name": "stdout",
     "output_type": "stream",
     "text": [
      "Form of art using sound and silence\n",
      "For other uses, see Music (disambiguation).\n",
      "\n",
      "\n",
      "This article needs additional citations for verification. Please help improve this article by adding citations to reliable sources. Unsourced material may be challenged and removed.Find sources: \"Music\" – news · newspapers · books · scholar · JSTOR (October 2021) (Learn how and when to remove this template message)\n",
      " Allegory of Music, by François Boucher, 1764\n",
      "Performing arts\n",
      "Acrobatics\n",
      "Ballet\n",
      "Circus skills\n",
      "Clown\n",
      "Dance\n",
      "Gymnastics\n",
      "Magic\n",
      "Mime\n",
      "Music\n",
      "Opera\n",
      "Professional wrestling\n",
      "Puppetry\n",
      "Speech\n",
      "Stand-up comedy\n",
      "Theatre\n",
      "Ventriloquism\n",
      "vte\n",
      "Music is the art of arranging sounds in time through the elements of melody, harmony, rhythm, and timbre.[1][2] It is one of the universal cultural aspects of all human societies. General definitions of music include common elements such as pitch (which governs melody and harmony), rhythm (and its associated concepts tempo, meter, and articulation), dynamics (loudness and softn\n"
     ]
    }
   ],
   "source": [
    "print(p.parent.text[:1000])"
   ]
  },
  {
   "cell_type": "code",
   "execution_count": 62,
   "id": "e5b749b1-c481-4724-a36a-5448c3e739ae",
   "metadata": {
    "tags": []
   },
   "outputs": [
    {
     "name": "stdout",
     "output_type": "stream",
     "text": [
      "\n",
      "\n",
      "\n",
      "\n",
      "Music - Wikipedia\n",
      "\n",
      "\n",
      "\n",
      "\n",
      "\n",
      "\n",
      "\n",
      "\n",
      "\n",
      "\n",
      "\n",
      "\n",
      "\n",
      "\n",
      "\n",
      "\n",
      "\n",
      "\n",
      "\n",
      "\n",
      "\n",
      "\n",
      "\n",
      "\n",
      "\n",
      "\n",
      "\n",
      "\n",
      "\n",
      "\n",
      "\n",
      "\n",
      "\n",
      "Music\n",
      "\n",
      "From Wikipedia, the free encyclopedia\n",
      "\n",
      "\n",
      "\n",
      "Jump to navigation\n",
      "Jump to search\n",
      "Form of art using sound and silence\n",
      "For other uses, see Music (disambiguation).\n",
      "\n",
      "\n",
      "This article needs additional citations for verification. Please help improve this article by adding citations to reliable sources. Unsourced material may be challenged and removed.Find sources: \"Music\" – news · newspapers · books · scholar · JSTOR (October 2021) (Learn how and when to remove this template message)\n",
      " Allegory of Music, by François Boucher, 1764\n",
      "Performing arts\n",
      "Acrobatics\n",
      "Ballet\n",
      "Circus skills\n",
      "Clown\n",
      "Dance\n",
      "Gymnastics\n",
      "Magic\n",
      "Mime\n",
      "Music\n",
      "Opera\n",
      "Professional wrestling\n",
      "Puppetry\n",
      "Speech\n",
      "Stand-up comedy\n",
      "Theatre\n",
      "Ventriloquism\n",
      "vte\n",
      "Music is the art of arranging sounds in time through the elements of melody, harmony, rhythm, and timbre.[1][2] It is one of the universal cultural aspects of all human societies. General definitions of music include common elements such as pitch (which governs melody and harmony), rhythm (and its associated concepts tempo, meter, and articulation), dynamics (loudness and softness), and the sonic qualities of timbre and texture (which are sometimes termed the \"color\" of a musical sound). Different styles or types of music may emphasize, de-emphasize or omit some of these elements. Music is performed with a vast range of instruments and vocal techniques ranging from singing to rapping; there are solely instrumental pieces, solely vocal pieces (such as songs without instrumental accompaniment) and pieces that combine singing and instruments. The word derives from Greek μουσική (mousiké; \"(art) of the Muses\").[3]\n",
      "In its most general form, the activities describing music as an art form or cultural activity include the creation of works of music (songs, tunes, symphonies, and so on), the criticism of music, the study of the history of music, and the aesthetic examination of music. Ancient Greek and Indian philosophers defined music in two parts: melodies, as tones ordered horizontally, and harmonies as tones ordered vertically. Common sayings such as \"the harmony of the spheres\" and \"it is music to my ears\" point to the notion that music is often ordered and pleasant to listen to. However, 20th-century composer John Cage thought that any sound can be music, saying, for example, \"There is no noise, only sound.\"[4]\n",
      "The creation, performance, significance, and even the definition of music vary according to culture and social context. Indeed, throughout history, some new forms or styles of music have been criticized as \"not being music\", including Beethoven's Grosse Fuge string quartet in 1825,[5] early jazz in the beginning of the 1900s[6] and hardcore punk in the 1980s.[7] There are many types of music, including popular music, traditional music, art music, music written for religious ceremonies, and work songs such as chanteys. Music ranges from strictly organized compositions—such as Classical music symphonies from the 1700s and 1800s—through to spontaneously played improvisational music such as jazz, and avant-garde styles of chance-based contemporary music from the 20th and 21st centuries.\n",
      "Music can be divided into genres (e.g., country music) and genres can be further divided into subgenres (e.g., alternative country and country pop are two of the many country subgenres), although the dividing lines and relationships between music genres are often subtle, sometimes open to personal interpretation, and occasionally controversial. For example, it can be hard to draw the line between some early 1980s hard rock and heavy metal. Within the arts, music may be classified as a performing art, a fine art, or as an auditory art. Music may be played or sung and heard live at a rock concert or orchestra performance, heard live as part of a dramatic work (a music theater show or opera), or it may be recorded and listened to on a radio, MP3 player, CD player, smartphone or as film score or TV show.\n",
      "In many cultures, music is an important part of people's way of life, as it plays a key role in  religious rituals, rite of passage ceremonies (e.g., graduation and marriage), social activities (e.g., dancing) and cultural activities ranging from amateur karaoke singing to playing in an amateur funk band or singing in a community choir. People may make music as a hobby, like a teen playing cello in a youth orchestra, or work as a professional musician or singer. The music industry includes the individuals who create new songs and musical pieces (such as songwriters and composers), individuals who perform music (which include orchestra, jazz band and rock band musicians, singers and conductors), individuals who record music (music producers and sound engineers), individuals who organize concert tours, and individuals who sell recordings, sheet music, and scores to customers. Even once a song or piece has been performed, music critics, music journalists, and music scholars may assess and \n"
     ]
    }
   ],
   "source": [
    "print(soup.text[:5000])"
   ]
  },
  {
   "cell_type": "markdown",
   "id": "0a10d824-555e-4408-9395-7dba9c48e6b3",
   "metadata": {},
   "source": [
    "### .strings and .stripped_strings  (Iterator)"
   ]
  },
  {
   "cell_type": "code",
   "execution_count": 63,
   "id": "79c6e478-6995-4959-b01a-6356520e2340",
   "metadata": {},
   "outputs": [
    {
     "name": "stdout",
     "output_type": "stream",
     "text": [
      "'Music'\n",
      "' is the '\n",
      "'art'\n",
      "' of arranging '\n",
      "'sounds'\n",
      "' in time through the '\n",
      "'elements'\n",
      "' of melody, harmony, rhythm, and timbre.'\n",
      "'[1]'\n",
      "'[2]'\n",
      "' It is one of the '\n",
      "'universal cultural'\n",
      "' aspects of all human societies. General '\n",
      "'definitions of music'\n",
      "' include common elements such as '\n",
      "'pitch'\n",
      "' (which governs '\n",
      "'melody'\n",
      "' and '\n",
      "'harmony'\n",
      "'), '\n",
      "'rhythm'\n",
      "' (and its associated concepts '\n",
      "'tempo'\n",
      "', '\n",
      "'meter'\n",
      "', and '\n",
      "'articulation'\n",
      "'), '\n",
      "'dynamics'\n",
      "' (loudness and softness), and the sonic qualities of '\n",
      "'timbre'\n",
      "' and '\n",
      "'texture'\n",
      "' (which are sometimes termed the \"color\" of a musical sound). Different '\n",
      "'styles or types'\n",
      "' of music may emphasize, de-emphasize or omit some of these elements. Music is performed with a vast range of '\n",
      "'instruments'\n",
      "' and vocal techniques ranging from '\n",
      "'singing'\n",
      "' to '\n",
      "'rapping'\n",
      "'; there are solely '\n",
      "'instrumental pieces'\n",
      "', '\n",
      "'solely vocal pieces'\n",
      "' (such as songs without instrumental '\n",
      "'accompaniment'\n",
      "') and pieces that combine singing and instruments. The word derives from '\n",
      "'Greek'\n",
      "' '\n",
      "'μουσική'\n",
      "' ('\n",
      "'mousiké'\n",
      "'; \"(art) of the '\n",
      "'Muses'\n",
      "'\").'\n",
      "'[3]'\n",
      "'\\n'\n"
     ]
    }
   ],
   "source": [
    "for s in p.strings:\n",
    "    print(repr(s))"
   ]
  },
  {
   "cell_type": "markdown",
   "id": "e585da78-9872-4cac-922f-57a4517ef13a",
   "metadata": {},
   "source": [
    "Strips string from any extra whitespace"
   ]
  },
  {
   "cell_type": "code",
   "execution_count": 64,
   "id": "6fb61afd-d72a-4e64-b4c3-48fbe3175cd8",
   "metadata": {
    "collapsed": true,
    "jupyter": {
     "outputs_hidden": true
    },
    "tags": []
   },
   "outputs": [
    {
     "name": "stdout",
     "output_type": "stream",
     "text": [
      "'Music'\n",
      "'is the'\n",
      "'art'\n",
      "'of arranging'\n",
      "'sounds'\n",
      "'in time through the'\n",
      "'elements'\n",
      "'of melody, harmony, rhythm, and timbre.'\n",
      "'[1]'\n",
      "'[2]'\n",
      "'It is one of the'\n",
      "'universal cultural'\n",
      "'aspects of all human societies. General'\n",
      "'definitions of music'\n",
      "'include common elements such as'\n",
      "'pitch'\n",
      "'(which governs'\n",
      "'melody'\n",
      "'and'\n",
      "'harmony'\n",
      "'),'\n",
      "'rhythm'\n",
      "'(and its associated concepts'\n",
      "'tempo'\n",
      "','\n",
      "'meter'\n",
      "', and'\n",
      "'articulation'\n",
      "'),'\n",
      "'dynamics'\n",
      "'(loudness and softness), and the sonic qualities of'\n",
      "'timbre'\n",
      "'and'\n",
      "'texture'\n",
      "'(which are sometimes termed the \"color\" of a musical sound). Different'\n",
      "'styles or types'\n",
      "'of music may emphasize, de-emphasize or omit some of these elements. Music is performed with a vast range of'\n",
      "'instruments'\n",
      "'and vocal techniques ranging from'\n",
      "'singing'\n",
      "'to'\n",
      "'rapping'\n",
      "'; there are solely'\n",
      "'instrumental pieces'\n",
      "','\n",
      "'solely vocal pieces'\n",
      "'(such as songs without instrumental'\n",
      "'accompaniment'\n",
      "') and pieces that combine singing and instruments. The word derives from'\n",
      "'Greek'\n",
      "'μουσική'\n",
      "'('\n",
      "'mousiké'\n",
      "'; \"(art) of the'\n",
      "'Muses'\n",
      "'\").'\n",
      "'[3]'\n"
     ]
    }
   ],
   "source": [
    "for s in p.stripped_strings:\n",
    "    print(repr(s))"
   ]
  },
  {
   "cell_type": "markdown",
   "id": "767ba175-ecbd-4fc8-b3e3-819509d8c891",
   "metadata": {
    "jupyter": {
     "outputs_hidden": true
    },
    "tags": []
   },
   "source": [
    "## Practical Examples\n",
    "\n",
    "### Links - Absolute path URL"
   ]
  },
  {
   "cell_type": "code",
   "execution_count": 66,
   "id": "595e88c1-c4eb-4c3a-961c-a681add3a40b",
   "metadata": {},
   "outputs": [
    {
     "data": {
      "text/plain": [
       "<a href=\"/wiki/Magic_(illusion)\" title=\"Magic (illusion)\">Magic</a>"
      ]
     },
     "execution_count": 66,
     "metadata": {},
     "output_type": "execute_result"
    }
   ],
   "source": [
    "link = links[26]\n",
    "link"
   ]
  },
  {
   "cell_type": "code",
   "execution_count": 67,
   "id": "a4e5b9cb-b0ba-4056-9dea-b46d671c5ebb",
   "metadata": {},
   "outputs": [
    {
     "data": {
      "text/plain": [
       "'Magic'"
      ]
     },
     "execution_count": 67,
     "metadata": {},
     "output_type": "execute_result"
    }
   ],
   "source": [
    "link.string #since no nested element"
   ]
  },
  {
   "cell_type": "code",
   "execution_count": 68,
   "id": "0b1a2961-facd-43ca-a939-bd186f2e9a03",
   "metadata": {},
   "outputs": [
    {
     "data": {
      "text/plain": [
       "'/wiki/Magic_(illusion)'"
      ]
     },
     "execution_count": 68,
     "metadata": {},
     "output_type": "execute_result"
    }
   ],
   "source": [
    "link['href']  #does not resembling url"
   ]
  },
  {
   "cell_type": "code",
   "execution_count": 69,
   "id": "4b6fa109-1bb8-48dc-b624-392e3e3e3db2",
   "metadata": {},
   "outputs": [],
   "source": [
    "from urllib.parse import urljoin"
   ]
  },
  {
   "cell_type": "code",
   "execution_count": 70,
   "id": "ee8cf9be-1f71-47f3-a0cb-d874333fa281",
   "metadata": {},
   "outputs": [
    {
     "data": {
      "text/plain": [
       "'https://en.wikipedia.org/wiki/Music'"
      ]
     },
     "execution_count": 70,
     "metadata": {},
     "output_type": "execute_result"
    }
   ],
   "source": [
    "base_site"
   ]
  },
  {
   "cell_type": "code",
   "execution_count": 71,
   "id": "d1218087-cda2-4ef1-a730-497692d219d0",
   "metadata": {},
   "outputs": [
    {
     "data": {
      "text/plain": [
       "'/wiki/Magic_(illusion)'"
      ]
     },
     "execution_count": 71,
     "metadata": {},
     "output_type": "execute_result"
    }
   ],
   "source": [
    "relative_url = link['href']\n",
    "relative_url"
   ]
  },
  {
   "cell_type": "code",
   "execution_count": 72,
   "id": "1c819e2f-a0d6-48db-bf59-2d974f62616d",
   "metadata": {},
   "outputs": [
    {
     "data": {
      "text/plain": [
       "'https://en.wikipedia.org/wiki/Magic_(illusion)'"
      ]
     },
     "execution_count": 72,
     "metadata": {},
     "output_type": "execute_result"
    }
   ],
   "source": [
    "full_url = urljoin(base_site, relative_url)\n",
    "full_url"
   ]
  },
  {
   "cell_type": "markdown",
   "id": "88a847da-8732-479a-a16b-0d0b328adaa2",
   "metadata": {},
   "source": [
    "### Processing multiple links at once"
   ]
  },
  {
   "cell_type": "code",
   "execution_count": 74,
   "id": "de2a1306-5a5d-4fcf-85fc-5f749908dae6",
   "metadata": {},
   "outputs": [
    {
     "data": {
      "text/plain": [
       "[None,\n",
       " '/wiki/Wikipedia:Protection_policy#semi',\n",
       " '#mw-head',\n",
       " '#searchInput',\n",
       " '/wiki/Music_(disambiguation)',\n",
       " '/wiki/File:Question_book-new.svg',\n",
       " '/wiki/Wikipedia:Verifiability',\n",
       " 'https://en.wikipedia.org/w/index.php?title=Music&action=edit',\n",
       " '/wiki/Help:Referencing_for_beginners',\n",
       " '//www.google.com/search?as_eq=wikipedia&q=%22Music%22',\n",
       " '//www.google.com/search?tbm=nws&q=%22Music%22+-wikipedia',\n",
       " '//www.google.com/search?&q=%22Music%22&tbs=bkt:s&tbm=bks',\n",
       " '//www.google.com/search?tbs=bks:1&q=%22Music%22+-wikipedia',\n",
       " '//scholar.google.com/scholar?q=%22Music%22',\n",
       " 'https://www.jstor.org/action/doBasicSearch?Query=%22Music%22&acc=on&wc=on',\n",
       " '/wiki/Help:Maintenance_template_removal',\n",
       " '/wiki/File:Fran%C3%A7ois_Boucher,_Allegory_of_Music,_1764,_NGA_32680.jpg',\n",
       " '/wiki/File:Fran%C3%A7ois_Boucher,_Allegory_of_Music,_1764,_NGA_32680.jpg',\n",
       " '/wiki/Fran%C3%A7ois_Boucher',\n",
       " '/wiki/Performing_arts']"
      ]
     },
     "execution_count": 74,
     "metadata": {},
     "output_type": "execute_result"
    }
   ],
   "source": [
    "[l.get('href') for l in links[:20]]  #Notice None. Also sqaurred bracket would have given error here for dictionary"
   ]
  },
  {
   "cell_type": "code",
   "execution_count": 75,
   "id": "87275955-675a-4889-917e-529839a422fa",
   "metadata": {},
   "outputs": [],
   "source": [
    "clean_links = [l for l in links if l.get('href') != None]"
   ]
  },
  {
   "cell_type": "code",
   "execution_count": 79,
   "id": "d5c2ed02-eecc-45c6-8fdc-324ac46ead3f",
   "metadata": {},
   "outputs": [
    {
     "data": {
      "text/plain": [
       "['/wiki/Wikipedia:Protection_policy#semi',\n",
       " '#mw-head',\n",
       " '#searchInput',\n",
       " '/wiki/Music_(disambiguation)',\n",
       " '/wiki/File:Question_book-new.svg']"
      ]
     },
     "execution_count": 79,
     "metadata": {},
     "output_type": "execute_result"
    }
   ],
   "source": [
    "relative_urls = [l.get('href') for l in clean_links]\n",
    "relative_urls[:5]"
   ]
  },
  {
   "cell_type": "code",
   "execution_count": 81,
   "id": "b639afbf-9f26-40eb-a35c-ddf16c8d7680",
   "metadata": {},
   "outputs": [
    {
     "data": {
      "text/plain": [
       "['https://en.wikipedia.org/wiki/Wikipedia:Protection_policy#semi',\n",
       " 'https://en.wikipedia.org/wiki/Music#mw-head',\n",
       " 'https://en.wikipedia.org/wiki/Music#searchInput',\n",
       " 'https://en.wikipedia.org/wiki/Music_(disambiguation)',\n",
       " 'https://en.wikipedia.org/wiki/File:Question_book-new.svg']"
      ]
     },
     "execution_count": 81,
     "metadata": {},
     "output_type": "execute_result"
    }
   ],
   "source": [
    "full_urls = [urljoin(base_site, url) for url in relative_urls]\n",
    "full_urls[:5]"
   ]
  },
  {
   "cell_type": "code",
   "execution_count": 82,
   "id": "74f051d3-1ec5-4d28-b22f-40a224062834",
   "metadata": {},
   "outputs": [
    {
     "data": {
      "text/plain": [
       "['https://en.wikipedia.org/wiki/Wikipedia:Protection_policy#semi',\n",
       " 'https://en.wikipedia.org/wiki/Music#mw-head',\n",
       " 'https://en.wikipedia.org/wiki/Music#searchInput',\n",
       " 'https://en.wikipedia.org/wiki/Music_(disambiguation)',\n",
       " 'https://en.wikipedia.org/wiki/File:Question_book-new.svg']"
      ]
     },
     "execution_count": 82,
     "metadata": {},
     "output_type": "execute_result"
    }
   ],
   "source": [
    "internal_links = [url for url in full_urls if 'wikipedia.org' in url]\n",
    "internal_links[:5]"
   ]
  },
  {
   "cell_type": "markdown",
   "id": "28d7e08c-fe10-4a99-b8f6-6315cd6821a4",
   "metadata": {},
   "source": [
    "## Extracting data from Nested tags"
   ]
  },
  {
   "cell_type": "code",
   "execution_count": 83,
   "id": "c8fcaf04-54fd-45e7-8a94-11b149c38e5a",
   "metadata": {},
   "outputs": [
    {
     "data": {
      "text/plain": [
       "[<div class=\"hatnote navigation-not-searchable\" role=\"note\">For other uses, see <a class=\"mw-disambig\" href=\"/wiki/Music_(disambiguation)\" title=\"Music (disambiguation)\">Music (disambiguation)</a>.</div>,\n",
       " <div class=\"hatnote navigation-not-searchable\" role=\"note\">Main article: <a href=\"/wiki/Musical_composition\" title=\"Musical composition\">Musical composition</a></div>]"
      ]
     },
     "execution_count": 83,
     "metadata": {},
     "output_type": "execute_result"
    }
   ],
   "source": [
    "div_notes = soup.find_all(\"div\", {\"role\":\"note\"})\n",
    "div_notes[:2]"
   ]
  },
  {
   "cell_type": "code",
   "execution_count": 84,
   "id": "5b66b827-7a69-45b0-af15-132a62ff9b22",
   "metadata": {},
   "outputs": [
    {
     "data": {
      "text/plain": [
       "<a class=\"mw-disambig\" href=\"/wiki/Music_(disambiguation)\" title=\"Music (disambiguation)\">Music (disambiguation)</a>"
      ]
     },
     "execution_count": 84,
     "metadata": {},
     "output_type": "execute_result"
    }
   ],
   "source": [
    "div_notes[0].find('a')"
   ]
  },
  {
   "cell_type": "code",
   "execution_count": 85,
   "id": "fe809d64-83ef-4af9-815c-08c8b540f33e",
   "metadata": {},
   "outputs": [
    {
     "data": {
      "text/plain": [
       "[<a class=\"mw-disambig\" href=\"/wiki/Music_(disambiguation)\" title=\"Music (disambiguation)\">Music (disambiguation)</a>,\n",
       " <a href=\"/wiki/Musical_composition\" title=\"Musical composition\">Musical composition</a>]"
      ]
     },
     "execution_count": 85,
     "metadata": {},
     "output_type": "execute_result"
    }
   ],
   "source": [
    "div_links = [div.find('a') for div in div_notes]\n",
    "div_links[:2]"
   ]
  },
  {
   "cell_type": "code",
   "execution_count": 86,
   "id": "a837446b-638c-4b3a-a160-a2936228726d",
   "metadata": {
    "tags": []
   },
   "outputs": [
    {
     "data": {
      "text/plain": [
       "23"
      ]
     },
     "execution_count": 86,
     "metadata": {},
     "output_type": "execute_result"
    }
   ],
   "source": [
    "len(div_links)"
   ]
  },
  {
   "cell_type": "markdown",
   "id": "2e70f168-2fe5-4ab2-9d74-a6e369e85b39",
   "metadata": {},
   "source": [
    "Above approach is naive because as shown below, div can have multiple links. So in above approach we pulled only first with find"
   ]
  },
  {
   "cell_type": "code",
   "execution_count": 90,
   "id": "0a9444f3-2e98-41d8-9dbc-3d704b45a6ec",
   "metadata": {},
   "outputs": [
    {
     "data": {
      "text/plain": [
       "<div class=\"hatnote navigation-not-searchable\" role=\"note\">See also: <a href=\"/wiki/Strophic_form\" title=\"Strophic form\">Strophic form</a>, <a href=\"/wiki/Binary_form\" title=\"Binary form\">Binary form</a>, <a href=\"/wiki/Ternary_form\" title=\"Ternary form\">Ternary form</a>, <a class=\"mw-redirect\" href=\"/wiki/Rondo_form\" title=\"Rondo form\">Rondo form</a>, <a href=\"/wiki/Variation_(music)\" title=\"Variation (music)\">Variation (music)</a>, and <a class=\"mw-redirect\" href=\"/wiki/Musical_development\" title=\"Musical development\">Musical development</a></div>"
      ]
     },
     "execution_count": 90,
     "metadata": {},
     "output_type": "execute_result"
    }
   ],
   "source": [
    "div_notes[7]"
   ]
  },
  {
   "cell_type": "code",
   "execution_count": 91,
   "id": "02733b4e-7158-4ae5-b7c2-42a4ef752342",
   "metadata": {},
   "outputs": [
    {
     "data": {
      "text/plain": [
       "[<a href=\"/wiki/Strophic_form\" title=\"Strophic form\">Strophic form</a>,\n",
       " <a href=\"/wiki/Binary_form\" title=\"Binary form\">Binary form</a>,\n",
       " <a href=\"/wiki/Ternary_form\" title=\"Ternary form\">Ternary form</a>,\n",
       " <a class=\"mw-redirect\" href=\"/wiki/Rondo_form\" title=\"Rondo form\">Rondo form</a>,\n",
       " <a href=\"/wiki/Variation_(music)\" title=\"Variation (music)\">Variation (music)</a>,\n",
       " <a class=\"mw-redirect\" href=\"/wiki/Musical_development\" title=\"Musical development\">Musical development</a>]"
      ]
     },
     "execution_count": 91,
     "metadata": {},
     "output_type": "execute_result"
    }
   ],
   "source": [
    "div_notes[7].find_all('a')"
   ]
  },
  {
   "cell_type": "code",
   "execution_count": 92,
   "id": "a51689a8-12f9-4d15-8748-d47eaa2670a4",
   "metadata": {},
   "outputs": [
    {
     "data": {
      "text/plain": [
       "30"
      ]
     },
     "execution_count": 92,
     "metadata": {},
     "output_type": "execute_result"
    }
   ],
   "source": [
    "div_links = []\n",
    "\n",
    "for div in div_notes:\n",
    "    anchors = div.find_all('a')\n",
    "    div_links.extend(anchors)\n",
    "len(div_links)"
   ]
  },
  {
   "cell_type": "code",
   "execution_count": 93,
   "id": "5898a1da-2f0c-44dd-b173-d57cb98cb347",
   "metadata": {},
   "outputs": [],
   "source": [
    "note_urls = [urljoin(base_site, l.get(\"href\")) for l in div_links]"
   ]
  },
  {
   "cell_type": "code",
   "execution_count": 94,
   "id": "13207202-e7d9-4945-8df1-00f10703bba6",
   "metadata": {},
   "outputs": [
    {
     "data": {
      "text/plain": [
       "(30,\n",
       " ['https://en.wikipedia.org/wiki/Music_(disambiguation)',\n",
       "  'https://en.wikipedia.org/wiki/Musical_composition',\n",
       "  'https://en.wikipedia.org/wiki/Musical_notation',\n",
       "  'https://en.wikipedia.org/wiki/Musical_improvisation'])"
      ]
     },
     "execution_count": 94,
     "metadata": {},
     "output_type": "execute_result"
    }
   ],
   "source": [
    "len(note_urls), note_urls[:4]"
   ]
  },
  {
   "cell_type": "markdown",
   "id": "7cf0ed77-b02c-45c3-bb0b-6af0af91dbcf",
   "metadata": {},
   "source": [
    "## Scraping Multiple Pages automatically"
   ]
  },
  {
   "cell_type": "code",
   "execution_count": 98,
   "id": "d2c96553-6eb9-4e89-b4da-7dac31a6354b",
   "metadata": {},
   "outputs": [
    {
     "name": "stdout",
     "output_type": "stream",
     "text": [
      "URL #1: https://en.wikipedia.org/wiki/Music_(disambiguation) \n",
      "URL #2: https://en.wikipedia.org/wiki/Musical_composition \n",
      "URL #3: https://en.wikipedia.org/wiki/Musical_notation \n",
      "URL #4: https://en.wikipedia.org/wiki/Musical_improvisation \n",
      "URL #5: https://en.wikipedia.org/wiki/Music_theory \n",
      "URL #6: https://en.wikipedia.org/wiki/History_of_music \n",
      "URL #7: https://en.wikipedia.org/wiki/Elements_of_music \n",
      "URL #8: https://en.wikipedia.org/wiki/Strophic_form \n",
      "URL #9: https://en.wikipedia.org/wiki/Binary_form \n",
      "URL #10: https://en.wikipedia.org/wiki/Ternary_form \n",
      "URL #11: https://en.wikipedia.org/wiki/Rondo_form \n",
      "URL #12: https://en.wikipedia.org/wiki/Variation_(music) \n",
      "URL #13: https://en.wikipedia.org/wiki/Musical_development \n",
      "URL #14: https://en.wikipedia.org/wiki/History_of_music \n",
      "URL #15: https://en.wikipedia.org/wiki/Music_of_Egypt \n",
      "URL #16: https://en.wikipedia.org/wiki/20th-century_music \n",
      "URL #17: https://en.wikipedia.org/wiki/Aesthetics_of_music \n",
      "URL #18: https://en.wikipedia.org/wiki/Neuroscience_of_music \n",
      "URL #19: https://en.wikipedia.org/wiki/Hearing \n",
      "URL #20: https://en.wikipedia.org/wiki/Culture_in_music_cognition \n",
      "URL #21: https://en.wikipedia.org/wiki/Ethnomusicology \n",
      "URL #22: https://en.wikipedia.org/wiki/Sociomusicology \n",
      "URL #23: https://en.wikipedia.org/wiki/Women_in_music \n",
      "URL #24: https://en.wikipedia.org/wiki/Computer_music \n",
      "URL #25: https://en.wikipedia.org/wiki/Music_technology \n",
      "URL #26: https://en.wikipedia.org/wiki/Royalty_payment#Music_royalties \n",
      "URL #27: https://en.wikipedia.org/wiki/Music_education \n",
      "URL #28: https://en.wikipedia.org/wiki/Ethnomusicology \n",
      "URL #29: https://en.wikipedia.org/wiki/Outline_of_music \n",
      "URL #30: https://en.wikipedia.org/wiki/Index_of_music_articles \n"
     ]
    }
   ],
   "source": [
    "par_text = []\n",
    "\n",
    "i=0\n",
    "\n",
    "for url in note_urls:\n",
    "    note_response = requests.get(url)\n",
    "    \n",
    "    if note_response.status_code == 200:\n",
    "        print(\"URL #{0}: {1} \".format(i+1, url))\n",
    "    else:\n",
    "        print(\"status code {0}: Skipping URL #{1}: {2}\".format(note_response.status_code, i+1, url))\n",
    "        i +=1\n",
    "        continue\n",
    "        \n",
    "    note_html = note_response.content\n",
    "    \n",
    "    note_soup = BeautifulSoup(note_html, 'lxml')\n",
    "    \n",
    "    note_pars = note_soup.find_all(\"p\")\n",
    "    \n",
    "    text = [p.text for p in note_pars]\n",
    "    \n",
    "    par_text.append(text)\n",
    "    i+=1"
   ]
  },
  {
   "cell_type": "code",
   "execution_count": 99,
   "id": "2b8459cc-e137-4d7f-812d-69e02699f0b2",
   "metadata": {},
   "outputs": [
    {
     "data": {
      "text/plain": [
       "['Music is an art form consisting of sound and silence, expressed through time.\\n',\n",
       " 'Music may also refer to:\\n']"
      ]
     },
     "execution_count": 99,
     "metadata": {},
     "output_type": "execute_result"
    }
   ],
   "source": [
    "par_text[0]"
   ]
  },
  {
   "cell_type": "code",
   "execution_count": 101,
   "id": "9f23fe65-4fbd-48c7-93d1-7d1c13a8597a",
   "metadata": {},
   "outputs": [
    {
     "data": {
      "text/plain": [
       "'Music is an art form consisting of sound and silence, expressed through time.\\nMusic may also refer to:\\n'"
      ]
     },
     "execution_count": 101,
     "metadata": {},
     "output_type": "execute_result"
    }
   ],
   "source": [
    "page_text = \"\".join(par_text[0])\n",
    "page_text"
   ]
  },
  {
   "cell_type": "code",
   "execution_count": 103,
   "id": "172e3d24-3379-426d-8a62-8c3b3ea57144",
   "metadata": {},
   "outputs": [
    {
     "data": {
      "text/plain": [
       "30"
      ]
     },
     "execution_count": 103,
     "metadata": {},
     "output_type": "execute_result"
    }
   ],
   "source": [
    "page_text = [\"\".join(text) for text in par_text]\n",
    "len(page_text)"
   ]
  },
  {
   "cell_type": "code",
   "execution_count": 107,
   "id": "5b0f04da-2930-43ad-bcc6-f797995e77ee",
   "metadata": {},
   "outputs": [
    {
     "name": "stdout",
     "output_type": "stream",
     "text": [
      "Music is an art form consisting of sound and silence, expressed through time.\n",
      "Music may also refer to:\n",
      "\n"
     ]
    }
   ],
   "source": [
    "print(page_text[0])"
   ]
  },
  {
   "cell_type": "code",
   "execution_count": 108,
   "id": "60d52285-ff44-44bc-90b1-17caca9908ba",
   "metadata": {},
   "outputs": [],
   "source": [
    "url_to_text = dict(zip(note_urls, page_text))"
   ]
  },
  {
   "cell_type": "code",
   "execution_count": 110,
   "id": "f0efc306-8398-4080-aa97-c105b0818f84",
   "metadata": {},
   "outputs": [
    {
     "name": "stdout",
     "output_type": "stream",
     "text": [
      "\n",
      "Music theory is the study of the practices and possibilities of music. The Oxford Companion to Music describes three interrelated uses of the term \"music theory\". The first is the \"rudiments\", that are needed to understand music notation (key signatures, time signatures, and rhythmic notation); the\n"
     ]
    }
   ],
   "source": [
    "print(url_to_text['https://en.wikipedia.org/wiki/Music_theory'][:300])"
   ]
  },
  {
   "cell_type": "code",
   "execution_count": null,
   "id": "e32aec70-20a2-415d-b5fc-6a592b2eee81",
   "metadata": {},
   "outputs": [],
   "source": []
  }
 ],
 "metadata": {
  "kernelspec": {
   "display_name": "opencv",
   "language": "python",
   "name": "opencv"
  },
  "language_info": {
   "codemirror_mode": {
    "name": "ipython",
    "version": 3
   },
   "file_extension": ".py",
   "mimetype": "text/x-python",
   "name": "python",
   "nbconvert_exporter": "python",
   "pygments_lexer": "ipython3",
   "version": "3.7.10"
  }
 },
 "nbformat": 4,
 "nbformat_minor": 5
}
