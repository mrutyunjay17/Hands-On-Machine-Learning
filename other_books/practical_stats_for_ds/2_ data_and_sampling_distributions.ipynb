{
 "cells": [
  {
   "cell_type": "code",
   "execution_count": 1,
   "id": "ba14387f-aaba-42d1-b92f-e9a014753d09",
   "metadata": {},
   "outputs": [],
   "source": [
    "import numpy as np\n",
    "import pandas as pd\n",
    "import seaborn as sns\n",
    "import scipy.stats as st\n",
    "import matplotlib.pyplot as plt\n",
    "from sklearn.utils import resample"
   ]
  },
  {
   "cell_type": "code",
   "execution_count": 2,
   "id": "c259fe71-7707-41fb-83ab-82a13f2ea331",
   "metadata": {},
   "outputs": [
    {
     "data": {
      "image/png": "[encoded data removed]",
      "text/plain": [
       "<Figure size 360x108 with 2 Axes>"
      ]
     },
     "metadata": {
      "needs_background": "light"
     },
     "output_type": "display_data"
    }
   ],
   "source": [
    "np.random.seed(seed=1)\n",
    "x = np.linspace(-3, 3, 300)\n",
    "xsample = st.norm.rvs(size=1000)\n",
    "\n",
    "fig, axes = plt.subplots(ncols=2, figsize=(5, 1.5))\n",
    "\n",
    "ax = axes[0]\n",
    "ax.fill(x, st.norm.pdf(x))\n",
    "ax.set_axis_off()\n",
    "ax.set_xlim(-3, 3)\n",
    "\n",
    "ax = axes[1]\n",
    "ax.hist(xsample, bins=30)\n",
    "ax.set_axis_off()\n",
    "ax.set_xlim(-3, 3)\n",
    "ax.set_position\n",
    "# plt.subplots_adjust(left=0, bottom=0, right=1, top=1, wspace=0, hspace=0)\n",
    "\n",
    "plt.show()"
   ]
  },
  {
   "cell_type": "markdown",
   "id": "0dd55c8e-8c5b-47c0-8837-616ac38ac445",
   "metadata": {},
   "source": [
    "### 1. Central Limit Theorem"
   ]
  },
  {
   "cell_type": "code",
   "execution_count": 3,
   "id": "eeb35ae7-a6ea-4166-a1c3-2769464c671c",
   "metadata": {},
   "outputs": [
    {
     "data": {
      "text/plain": [
       "0    67000\n",
       "1    52000\n",
       "Name: x, dtype: int64"
      ]
     },
     "execution_count": 3,
     "metadata": {},
     "output_type": "execute_result"
    }
   ],
   "source": [
    "loans_income = pd.read_csv(\"https://raw.githubusercontent.com/gedeck/practical-statistics-for-data-scientists/master/data/loans_income.csv\", squeeze=True)\n",
    "loans_income.head(2)"
   ]
  },
  {
   "cell_type": "code",
   "execution_count": 4,
   "id": "6001ec6e-0109-4fde-b243-84702650612b",
   "metadata": {},
   "outputs": [
    {
     "data": {
      "text/plain": [
       "<seaborn.axisgrid.FacetGrid at 0x2326e4a6a08>"
      ]
     },
     "execution_count": 4,
     "metadata": {},
     "output_type": "execute_result"
    },
    {
     "data": {
      "image/png": "[encoded data removed]",
      "text/plain": [
       "<Figure size 288x432 with 3 Axes>"
      ]
     },
     "metadata": {
      "needs_background": "light"
     },
     "output_type": "display_data"
    }
   ],
   "source": [
    "\n",
    "sample_data = pd.DataFrame({\n",
    "    'income': loans_income.sample(1000),\n",
    "    'type': 'Data',\n",
    "})\n",
    "\n",
    "sample_mean_05 = pd.DataFrame({\n",
    "    'income': [loans_income.sample(5).mean() for _ in range(1000)],\n",
    "    'type': 'Mean of 5',\n",
    "})\n",
    "\n",
    "sample_mean_20 = pd.DataFrame({\n",
    "    'income': [loans_income.sample(20).mean() for _ in range(1000)],\n",
    "    'type': 'Mean of 20',\n",
    "})\n",
    "\n",
    "results = pd.concat([sample_data, sample_mean_05, sample_mean_20])\n",
    "g = sns.FacetGrid(results, col='type', col_wrap=1, height=2, aspect=2)\n",
    "g.map(plt.hist, 'income', range=[0,200000], bins=40)\n",
    "g.set_axis_labels('Income', 'Count')\n",
    "g.set_titles('{col_name}')"
   ]
  },
  {
   "cell_type": "code",
   "execution_count": 5,
   "id": "aea989bb-82e6-4b27-9901-dd1d2aea7533",
   "metadata": {},
   "outputs": [
    {
     "name": "stdout",
     "output_type": "stream",
     "text": [
      "Bootstrap Statistics: \n",
      "Original: 62000.0\n",
      "Bias: -204.20900000000256\n",
      "Std. Error: 404.4826993495183\n"
     ]
    }
   ],
   "source": [
    "results = []\n",
    "sample_loans_inc = loans_income.sample(20000)\n",
    "\n",
    "for nrepeat in range(1000):\n",
    "    sample = resample(sample_loans_inc, replace=True)\n",
    "    results.append(sample.median())\n",
    "\n",
    "results = pd.Series(results)\n",
    "print(\"Bootstrap Statistics: \")\n",
    "print(f\"Original: {loans_income.median()}\")\n",
    "print(f\"Bias: {results.mean() - loans_income.median()}\")\n",
    "print(f\"Std. Error: {results.std()}\")"
   ]
  },
  {
   "cell_type": "markdown",
   "id": "b691e169-39c3-4197-ba9e-4f697c749745",
   "metadata": {},
   "source": [
    "Origianl Estimate of median is \\\\$62,000. The bootStrap distribution indicates that the estimate has a bias of about -\\\\$86 and standard error of \\\\$231. The results will vary slightly between consecutive runs of this algorithm."
   ]
  },
  {
   "cell_type": "code",
   "execution_count": 6,
   "id": "583b220a-5974-403c-a0c0-8d654ae934be",
   "metadata": {},
   "outputs": [
    {
     "data": {
      "text/plain": [
       "(array([  2.,   3.,   4., 118.,  96.,  59., 680.,   9.,  23.,   6.]),\n",
       " array([60000., 60300., 60600., 60900., 61200., 61500., 61800., 62100.,\n",
       "        62400., 62700., 63000.]),\n",
       " <BarContainer object of 10 artists>)"
      ]
     },
     "execution_count": 6,
     "metadata": {},
     "output_type": "execute_result"
    },
    {
     "data": {
      "image/png": "[encoded data removed]",
      "text/plain": [
       "<Figure size 432x288 with 1 Axes>"
      ]
     },
     "metadata": {
      "needs_background": "light"
     },
     "output_type": "display_data"
    }
   ],
   "source": [
    "plt.hist(results)"
   ]
  },
  {
   "cell_type": "markdown",
   "id": "6967b11d-e56d-4a0e-b14d-5912a2011f5e",
   "metadata": {},
   "source": [
    "### 2. Standardization vs Normalization\n",
    "\n",
    "- References:\n",
    "    1. [About Feature Scaling](https://sebastianraschka.com/Articles/2014_about_feature_scaling.html)\n",
    "    2. [Comparison](https://towardsdatascience.com/normalization-vs-standardization-quantitative-analysis-a91e8a79cebf)"
   ]
  },
  {
   "cell_type": "code",
   "execution_count": 8,
   "id": "2a884184-ab37-4594-8dd4-f07eec517327",
   "metadata": {},
   "outputs": [
    {
     "data": {
      "text/html": [
       "<div>\n",
       "<style scoped>\n",
       "    .dataframe tbody tr th:only-of-type {\n",
       "        vertical-align: middle;\n",
       "    }\n",
       "\n",
       "    .dataframe tbody tr th {\n",
       "        vertical-align: top;\n",
       "    }\n",
       "\n",
       "    .dataframe thead th {\n",
       "        text-align: right;\n",
       "    }\n",
       "</style>\n",
       "<table border=\"1\" class=\"dataframe\">\n",
       "  <thead>\n",
       "    <tr style=\"text-align: right;\">\n",
       "      <th></th>\n",
       "      <th>Class label</th>\n",
       "      <th>Alcohol</th>\n",
       "      <th>Malic acid</th>\n",
       "    </tr>\n",
       "  </thead>\n",
       "  <tbody>\n",
       "    <tr>\n",
       "      <th>0</th>\n",
       "      <td>1</td>\n",
       "      <td>14.23</td>\n",
       "      <td>1.71</td>\n",
       "    </tr>\n",
       "    <tr>\n",
       "      <th>1</th>\n",
       "      <td>1</td>\n",
       "      <td>13.20</td>\n",
       "      <td>1.78</td>\n",
       "    </tr>\n",
       "    <tr>\n",
       "      <th>2</th>\n",
       "      <td>1</td>\n",
       "      <td>13.16</td>\n",
       "      <td>2.36</td>\n",
       "    </tr>\n",
       "    <tr>\n",
       "      <th>3</th>\n",
       "      <td>1</td>\n",
       "      <td>14.37</td>\n",
       "      <td>1.95</td>\n",
       "    </tr>\n",
       "  </tbody>\n",
       "</table>\n",
       "</div>"
      ],
      "text/plain": [
       "   Class label  Alcohol  Malic acid\n",
       "0            1    14.23        1.71\n",
       "1            1    13.20        1.78\n",
       "2            1    13.16        2.36\n",
       "3            1    14.37        1.95"
      ]
     },
     "execution_count": 8,
     "metadata": {},
     "output_type": "execute_result"
    }
   ],
   "source": [
    "import pandas as pd\n",
    "import numpy as np\n",
    "\n",
    "df = pd.io.parsers.read_csv(\n",
    "    'https://raw.githubusercontent.com/rasbt/pattern_classification/master/data/wine_data.csv',\n",
    "     header=None,\n",
    "     usecols=[0,1,2]\n",
    "    )\n",
    "\n",
    "df.columns=['Class label', 'Alcohol', 'Malic acid']\n",
    "\n",
    "df.head(4)"
   ]
  },
  {
   "cell_type": "code",
   "execution_count": 9,
   "id": "d3ff964f-0d03-4fdc-9423-5f23f89ad300",
   "metadata": {},
   "outputs": [],
   "source": [
    "from sklearn.preprocessing import StandardScaler, MinMaxScaler\n",
    "std_sc = StandardScaler()\n",
    "std_sc.fit(df[['Alcohol', 'Malic acid']])\n",
    "df_std = std_sc.transform(df[['Alcohol', 'Malic acid']])\n",
    "\n",
    "nrm_sc = MinMaxScaler()\n",
    "nrm_sc.fit(df[['Alcohol', 'Malic acid']])\n",
    "df_nrm = nrm_sc.transform(df[['Alcohol','Malic acid']])"
   ]
  },
  {
   "cell_type": "code",
   "execution_count": 21,
   "id": "7d932e04-4cb4-479e-b830-58034e7883c7",
   "metadata": {},
   "outputs": [
    {
     "name": "stdout",
     "output_type": "stream",
     "text": [
      "Mean after Standardization:\tAlcohol=-0.00, Malic acid=-0.00\n",
      "Std. Deviation after Standardization:\tAlcohol=1.00, Malic acid=1.00\n",
      "\n",
      "Min Value Normalization:\tAlcohol=0.00, Malic acid=0.00\n",
      "Max Value after Normalization:\tAlcohol=1.00, Malic acid=1.00\n"
     ]
    }
   ],
   "source": [
    "print(\"Mean after Standardization:\\tAlcohol={:.2f}, Malic acid={:.2f}\"\n",
    "     .format(df_std[:, 0].mean(), df_std[:, 1].mean()))\n",
    "print(\"Std. Deviation after Standardization:\\tAlcohol={:.2f}, Malic acid={:.2f}\"\n",
    "     .format(df_std[:, 0].std(), df_std[:, 1].std()))\n",
    "print()\n",
    "print(\"Min Value Normalization:\\tAlcohol={:.2f}, Malic acid={:.2f}\"\n",
    "     .format(df_nrm[:, 0].min(), df_nrm[:, 1].min()))\n",
    "print(\"Max Value after Normalization:\\tAlcohol={:.2f}, Malic acid={:.2f}\"\n",
    "     .format(df_nrm[:, 0].max(), df_nrm[:, 1].max()))"
   ]
  },
  {
   "cell_type": "code",
   "execution_count": 33,
   "id": "2abe8d9f-74e3-4190-8acc-6cfee0cafedb",
   "metadata": {},
   "outputs": [
    {
     "data": {
      "image/png": "[encoded data removed]",
      "text/plain": [
       "<Figure size 576x360 with 1 Axes>"
      ]
     },
     "metadata": {
      "needs_background": "light"
     },
     "output_type": "display_data"
    }
   ],
   "source": [
    "#plotting before and after results\n",
    "plt.figure(figsize=(8,5))\n",
    "plt.scatter(df['Alcohol'], df['Malic acid'], color = \"red\", alpha=0.5, label=\"Input Scale\")\n",
    "\n",
    "plt.scatter(df_std[:,0], df_std[:,1], color = \"green\", alpha=0.3, \n",
    "            label='Standardized [$N  (\\mu=0, \\; \\sigma=1)$]')\n",
    "\n",
    "plt.scatter(df_nrm[:,0] , df_nrm[:,1], color = \"blue\", alpha=0.3, \n",
    "           label=\"Normalization: [min=0, max=1]\")\n",
    "\n",
    "plt.title('Alcohol and Malic Acid content of the wine dataset')\n",
    "plt.xlabel('Alcohol')\n",
    "plt.ylabel('Malic Acid')\n",
    "plt.legend(loc=\"upper left\")\n",
    "plt.tight_layout()\n",
    "plt.grid()\n",
    "plt.show()\n"
   ]
  },
  {
   "cell_type": "markdown",
   "id": "2b2b1faa-64f3-4491-9b58-de2ed37816c5",
   "metadata": {},
   "source": [
    "#### a. Standard Normal and QQ Plot"
   ]
  },
  {
   "cell_type": "code",
   "execution_count": 3,
   "id": "0b3a40ba-f212-4a2a-b73c-d58b9d5050ed",
   "metadata": {},
   "outputs": [
    {
     "data": {
      "image/png": "[encoded data removed]",
      "text/plain": [
       "<Figure size 288x288 with 1 Axes>"
      ]
     },
     "metadata": {
      "needs_background": "light"
     },
     "output_type": "display_data"
    }
   ],
   "source": [
    "#QQ Plot\n",
    "fig, ax = plt.subplots(figsize=(4,4))\n",
    "norm_sample = st.norm.rvs(size=100)\n",
    "st.probplot(norm_sample, plot=ax)\n",
    "plt.show()"
   ]
  },
  {
   "cell_type": "markdown",
   "id": "94fee6ce-8a54-46f1-8c1f-c0da90b8379e",
   "metadata": {},
   "source": [
    "#### b. Skewed/Long Tailed Distribution"
   ]
  },
  {
   "cell_type": "code",
   "execution_count": 4,
   "id": "dfa3e3ea-9451-4095-bb74-caeccd660624",
   "metadata": {},
   "outputs": [
    {
     "data": {
      "text/html": [
       "<div>\n",
       "<style scoped>\n",
       "    .dataframe tbody tr th:only-of-type {\n",
       "        vertical-align: middle;\n",
       "    }\n",
       "\n",
       "    .dataframe tbody tr th {\n",
       "        vertical-align: top;\n",
       "    }\n",
       "\n",
       "    .dataframe thead th {\n",
       "        text-align: right;\n",
       "    }\n",
       "</style>\n",
       "<table border=\"1\" class=\"dataframe\">\n",
       "  <thead>\n",
       "    <tr style=\"text-align: right;\">\n",
       "      <th></th>\n",
       "      <th>Unnamed: 0</th>\n",
       "      <th>ADS</th>\n",
       "      <th>CA</th>\n",
       "      <th>MSFT</th>\n",
       "      <th>RHT</th>\n",
       "      <th>CTSH</th>\n",
       "      <th>CSC</th>\n",
       "      <th>EMC</th>\n",
       "      <th>IBM</th>\n",
       "      <th>XRX</th>\n",
       "      <th>...</th>\n",
       "      <th>WAT</th>\n",
       "      <th>ALXN</th>\n",
       "      <th>AMGN</th>\n",
       "      <th>BXLT</th>\n",
       "      <th>BIIB</th>\n",
       "      <th>CELG</th>\n",
       "      <th>GILD</th>\n",
       "      <th>REGN</th>\n",
       "      <th>VRTX</th>\n",
       "      <th>HSIC</th>\n",
       "    </tr>\n",
       "  </thead>\n",
       "  <tbody>\n",
       "    <tr>\n",
       "      <th>0</th>\n",
       "      <td>1993-01-29</td>\n",
       "      <td>0.0</td>\n",
       "      <td>0.060124</td>\n",
       "      <td>-0.022100</td>\n",
       "      <td>0.0</td>\n",
       "      <td>0.0</td>\n",
       "      <td>0.018897</td>\n",
       "      <td>0.007368</td>\n",
       "      <td>0.092165</td>\n",
       "      <td>0.259140</td>\n",
       "      <td>...</td>\n",
       "      <td>0.0</td>\n",
       "      <td>0.0</td>\n",
       "      <td>0.34716</td>\n",
       "      <td>0.0</td>\n",
       "      <td>0.04167</td>\n",
       "      <td>0.00000</td>\n",
       "      <td>0.015564</td>\n",
       "      <td>1.75</td>\n",
       "      <td>0.125</td>\n",
       "      <td>0.0</td>\n",
       "    </tr>\n",
       "    <tr>\n",
       "      <th>1</th>\n",
       "      <td>1993-02-01</td>\n",
       "      <td>0.0</td>\n",
       "      <td>-0.180389</td>\n",
       "      <td>0.027621</td>\n",
       "      <td>0.0</td>\n",
       "      <td>0.0</td>\n",
       "      <td>0.018889</td>\n",
       "      <td>0.018425</td>\n",
       "      <td>0.115207</td>\n",
       "      <td>-0.100775</td>\n",
       "      <td>...</td>\n",
       "      <td>0.0</td>\n",
       "      <td>0.0</td>\n",
       "      <td>-0.23144</td>\n",
       "      <td>0.0</td>\n",
       "      <td>0.00000</td>\n",
       "      <td>-0.01041</td>\n",
       "      <td>0.007782</td>\n",
       "      <td>1.25</td>\n",
       "      <td>0.125</td>\n",
       "      <td>0.0</td>\n",
       "    </tr>\n",
       "  </tbody>\n",
       "</table>\n",
       "<p>2 rows × 518 columns</p>\n",
       "</div>"
      ],
      "text/plain": [
       "   Unnamed: 0  ADS        CA      MSFT  RHT  CTSH       CSC       EMC  \\\n",
       "0  1993-01-29  0.0  0.060124 -0.022100  0.0   0.0  0.018897  0.007368   \n",
       "1  1993-02-01  0.0 -0.180389  0.027621  0.0   0.0  0.018889  0.018425   \n",
       "\n",
       "        IBM       XRX  ...  WAT  ALXN     AMGN  BXLT     BIIB     CELG  \\\n",
       "0  0.092165  0.259140  ...  0.0   0.0  0.34716   0.0  0.04167  0.00000   \n",
       "1  0.115207 -0.100775  ...  0.0   0.0 -0.23144   0.0  0.00000 -0.01041   \n",
       "\n",
       "       GILD  REGN   VRTX  HSIC  \n",
       "0  0.015564  1.75  0.125   0.0  \n",
       "1  0.007782  1.25  0.125   0.0  \n",
       "\n",
       "[2 rows x 518 columns]"
      ]
     },
     "execution_count": 4,
     "metadata": {},
     "output_type": "execute_result"
    }
   ],
   "source": [
    "sp500_px = pd.read_csv(\"https://github.com/gedeck/practical-statistics-for-data-scientists/raw/master/data/sp500_data.csv.gz\", compression=\"gzip\")\n",
    "sp500_px.head(2)"
   ]
  },
  {
   "cell_type": "code",
   "execution_count": 5,
   "id": "cce3d557-2427-4b3e-ad45-c1fbb72802e2",
   "metadata": {},
   "outputs": [
    {
     "data": {
      "image/png": "[encoded data removed]",
      "text/plain": [
       "<Figure size 288x288 with 1 Axes>"
      ]
     },
     "metadata": {
      "needs_background": "light"
     },
     "output_type": "display_data"
    }
   ],
   "source": [
    "nflx = sp500_px.NFLX\n",
    "nflx = np.diff(np.log(nflx[nflx>0]))\n",
    "fig,ax = plt.subplots(figsize=(4,4))\n",
    "st.probplot(nflx, plot=ax)\n",
    "plt.show()"
   ]
  },
  {
   "cell_type": "markdown",
   "id": "59afe8fd-6cfe-46e2-b7b6-35a700c92c37",
   "metadata": {},
   "source": [
    "### 3. Binomial Distribution"
   ]
  },
  {
   "cell_type": "code",
   "execution_count": 8,
   "id": "8f230e0c-03b8-48a1-bb47-6502d16ede9d",
   "metadata": {},
   "outputs": [
    {
     "data": {
      "text/plain": [
       "(0.0729, 0.99144)"
      ]
     },
     "execution_count": 8,
     "metadata": {},
     "output_type": "execute_result"
    }
   ],
   "source": [
    "st.binom.pmf(2, n=5, p=0.1), st.binom.cdf(2, n=5, p=0.1)"
   ]
  },
  {
   "cell_type": "markdown",
   "id": "2d4b52fd-fdb9-47ea-8cc2-1e97ccbfd01d",
   "metadata": {},
   "source": [
    "- <b>PMF</b>: Probability of observing exactly <b>2 successes</b> outcomes in <b>n=5 trials</b>\n",
    "</b>, where for each trial probability of success is <b>p=0.1</b>\n",
    "- <b>CDF</b>: Probability of observing <b>2 or fewer successes</b> outcomes in <b>n=5 trials</b>\n",
    "</b>, where for each trial probability of success is <b>p=0.1</b>  \n",
    "\n",
    "> <b>Problem:</b> Studies show that color blindness affects more than 8% of the men. A random sample of 10 men is taken. Find,\n",
    "> 1. Probablity that all 10 men are blind  \n",
    "> 2. Probablity that no men are blind  \n",
    "> 3. Probability that 2 men are blind  \n",
    "> 4. Probability that atleast 2 men are blind  \n",
    "> 5. Expected no. of color blind men in the sample.\n",
    "> 6. Std. Dev. of no. of color blind men in the sample."
   ]
  },
  {
   "cell_type": "code",
   "execution_count": 26,
   "id": "b2666626-71bf-4139-be5b-60eb71d86796",
   "metadata": {},
   "outputs": [
    {
     "name": "stdout",
     "output_type": "stream",
     "text": [
      "P(blind = 10) =  1.0737418239999982e-11\n",
      "P(blind = 0) =  0.43438845422363215\n",
      "P(blind = 2) =  0.14780703546361768\n",
      "P(blind >= 2) = 1 - P(blind <= 1) =  0.18788245514712232\n",
      "P(blind >= 2) = 1 - P(blind = 1) - P(blind =0 ) =  0.1878824551471222\n",
      "E(x) = n*p =  0.8\n",
      "SD(x) = SqRoot(n*p(1-p)) =  0.8579044235810888\n"
     ]
    }
   ],
   "source": [
    "#p=0.08, n=10\n",
    "n_samples, p_blind = 10, 0.08\n",
    "print(\"P(blind = 10) = \",st.binom.pmf(10, n=n_samples, p=p_blind)) \n",
    "print(\"P(blind = 0) = \",st.binom.pmf(0, n=n_samples, p=p_blind)) \n",
    "print(\"P(blind = 2) = \",st.binom.pmf(2, n=n_samples, p=p_blind)) \n",
    "print(\"P(blind >= 2) = 1 - P(blind <= 1) = \",1- st.binom.cdf(1, n=n_samples, p=p_blind)) \n",
    "print(\"P(blind >= 2) = 1 - P(blind = 1) - P(blind =0 ) = \",\n",
    "      1- st.binom.pmf(1, n=n_samples, p=p_blind) - st.binom.pmf(0, n=n_samples, p=p_blind))\n",
    "print(\"E(x) = n*p = \", n_samples * p_blind)\n",
    "print(\"SD(x) = SqRoot(n*p(1-p)) = \", np.sqrt(n_samples * p_blind * (1 - p_blind)))"
   ]
  },
  {
   "cell_type": "markdown",
   "id": "5a7d5a15-de45-4989-9881-d2915e7a5f52",
   "metadata": {},
   "source": [
    "### 4. Poisson Distribution\n",
    "\n",
    "This code will generate 100 random numbers from poisson distributon with ${\\lambda=2}$.  \n",
    "For ex., if incoming customer service calls average 2 per minute, this code will simulate 100 minutes returning number of call for each of those 100 minutes."
   ]
  },
  {
   "cell_type": "code",
   "execution_count": 31,
   "id": "6be696d2-8a5a-4af5-b0d2-dd532f55b187",
   "metadata": {},
   "outputs": [
    {
     "data": {
      "image/png": "[encoded data removed]",
      "text/plain": [
       "<Figure size 432x288 with 1 Axes>"
      ]
     },
     "metadata": {
      "needs_background": "light"
     },
     "output_type": "display_data"
    }
   ],
   "source": [
    "plt.hist(st.poisson.rvs(2, size=100, random_state=42), bins=12)\n",
    "plt.show()"
   ]
  },
  {
   "cell_type": "markdown",
   "id": "dbbcf2cb-40f7-4f9d-b947-48ba541dcd65",
   "metadata": {},
   "source": [
    "### 5. Exponential Distribution  \n",
    "\n",
    "This code will generate 100 random numbers from an exponential distribution where the mean number of events per time period is 0.2.  \n",
    "So it simulates 100 intervals in minutes between service calls where the average rate of incoming calls is 0.2 per minute."
   ]
  },
  {
   "cell_type": "code",
   "execution_count": 38,
   "id": "bcd20283-a6c5-45a4-8e8d-a525dbe5e141",
   "metadata": {},
   "outputs": [
    {
     "data": {
      "image/png": "[encoded data removed]",
      "text/plain": [
       "<Figure size 432x288 with 1 Axes>"
      ]
     },
     "metadata": {
      "needs_background": "light"
     },
     "output_type": "display_data"
    }
   ],
   "source": [
    "sns.kdeplot(st.expon.rvs(0.2, size=100, random_state=42))\n",
    "plt.show()"
   ]
  },
  {
   "cell_type": "markdown",
   "id": "19316b12-5660-424d-99ee-0c7557888325",
   "metadata": {},
   "source": [
    "### 6. Weibull Distribution"
   ]
  },
  {
   "cell_type": "code",
   "execution_count": 44,
   "id": "17456a92-18e9-4183-b76c-97fdd84e2193",
   "metadata": {},
   "outputs": [
    {
     "data": {
      "image/png": "[encoded data removed]",
      "text/plain": [
       "<Figure size 432x288 with 1 Axes>"
      ]
     },
     "metadata": {
      "needs_background": "light"
     },
     "output_type": "display_data"
    }
   ],
   "source": [
    "sns.kdeplot(st.weibull_min.rvs(1.5,scale=2, size=100, random_state=42))\n",
    "plt.show()"
   ]
  }
 ],
 "metadata": {
  "kernelspec": {
   "display_name": "opencv",
   "language": "python",
   "name": "opencv"
  },
  "language_info": {
   "codemirror_mode": {
    "name": "ipython",
    "version": 3
   },
   "file_extension": ".py",
   "mimetype": "text/x-python",
   "name": "python",
   "nbconvert_exporter": "python",
   "pygments_lexer": "ipython3",
   "version": "3.7.10"
  }
 },
 "nbformat": 4,
 "nbformat_minor": 5
}
