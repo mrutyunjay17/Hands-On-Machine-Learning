{
 "cells": [
  {
   "cell_type": "code",
   "execution_count": 1,
   "id": "ba14387f-aaba-42d1-b92f-e9a014753d09",
   "metadata": {},
   "outputs": [],
   "source": [
    "import numpy as np\n",
    "import pandas as pd\n",
    "import seaborn as sns\n",
    "import scipy.stats as st\n",
    "import matplotlib.pyplot as plt\n",
    "from sklearn.utils import resample"
   ]
  },
  {
   "cell_type": "code",
   "execution_count": 2,
   "id": "c259fe71-7707-41fb-83ab-82a13f2ea331",
   "metadata": {},
   "outputs": [
    {
     "data": {
      "image/png": "[encoded data removed]",
      "text/plain": [
       "<Figure size 360x108 with 2 Axes>"
      ]
     },
     "metadata": {
      "needs_background": "light"
     },
     "output_type": "display_data"
    }
   ],
   "source": [
    "np.random.seed(seed=1)\n",
    "x = np.linspace(-3, 3, 300)\n",
    "xsample = st.norm.rvs(size=1000)\n",
    "\n",
    "fig, axes = plt.subplots(ncols=2, figsize=(5, 1.5))\n",
    "\n",
    "ax = axes[0]\n",
    "ax.fill(x, st.norm.pdf(x))\n",
    "ax.set_axis_off()\n",
    "ax.set_xlim(-3, 3)\n",
    "\n",
    "ax = axes[1]\n",
    "ax.hist(xsample, bins=30)\n",
    "ax.set_axis_off()\n",
    "ax.set_xlim(-3, 3)\n",
    "ax.set_position\n",
    "# plt.subplots_adjust(left=0, bottom=0, right=1, top=1, wspace=0, hspace=0)\n",
    "\n",
    "plt.show()"
   ]
  },
  {
   "cell_type": "markdown",
   "id": "0dd55c8e-8c5b-47c0-8837-616ac38ac445",
   "metadata": {},
   "source": [
    "### 1. Central Limit Theorem"
   ]
  },
  {
   "cell_type": "code",
   "execution_count": 3,
   "id": "eeb35ae7-a6ea-4166-a1c3-2769464c671c",
   "metadata": {},
   "outputs": [
    {
     "data": {
      "text/plain": [
       "0    67000\n",
       "1    52000\n",
       "Name: x, dtype: int64"
      ]
     },
     "execution_count": 3,
     "metadata": {},
     "output_type": "execute_result"
    }
   ],
   "source": [
    "loans_income = pd.read_csv(\"https://raw.githubusercontent.com/gedeck/practical-statistics-for-data-scientists/master/data/loans_income.csv\", squeeze=True)\n",
    "loans_income.head(2)"
   ]
  },
  {
   "cell_type": "code",
   "execution_count": 4,
   "id": "6001ec6e-0109-4fde-b243-84702650612b",
   "metadata": {},
   "outputs": [
    {
     "data": {
      "text/plain": [
       "<seaborn.axisgrid.FacetGrid at 0x2326e4a6a08>"
      ]
     },
     "execution_count": 4,
     "metadata": {},
     "output_type": "execute_result"
    },
    {
     "data": {
      "image/png": "[encoded data removed]",
      "text/plain": [
       "<Figure size 288x432 with 3 Axes>"
      ]
     },
     "metadata": {
      "needs_background": "light"
     },
     "output_type": "display_data"
    }
   ],
   "source": [
    "\n",
    "sample_data = pd.DataFrame({\n",
    "    'income': loans_income.sample(1000),\n",
    "    'type': 'Data',\n",
    "})\n",
    "\n",
    "sample_mean_05 = pd.DataFrame({\n",
    "    'income': [loans_income.sample(5).mean() for _ in range(1000)],\n",
    "    'type': 'Mean of 5',\n",
    "})\n",
    "\n",
    "sample_mean_20 = pd.DataFrame({\n",
    "    'income': [loans_income.sample(20).mean() for _ in range(1000)],\n",
    "    'type': 'Mean of 20',\n",
    "})\n",
    "\n",
    "results = pd.concat([sample_data, sample_mean_05, sample_mean_20])\n",
    "g = sns.FacetGrid(results, col='type', col_wrap=1, height=2, aspect=2)\n",
    "g.map(plt.hist, 'income', range=[0,200000], bins=40)\n",
    "g.set_axis_labels('Income', 'Count')\n",
    "g.set_titles('{col_name}')"
   ]
  },
  {
   "cell_type": "code",
   "execution_count": 5,
   "id": "aea989bb-82e6-4b27-9901-dd1d2aea7533",
   "metadata": {},
   "outputs": [
    {
     "name": "stdout",
     "output_type": "stream",
     "text": [
      "Bootstrap Statistics: \n",
      "Original: 62000.0\n",
      "Bias: -204.20900000000256\n",
      "Std. Error: 404.4826993495183\n"
     ]
    }
   ],
   "source": [
    "results = []\n",
    "sample_loans_inc = loans_income.sample(20000)\n",
    "\n",
    "for nrepeat in range(1000):\n",
    "    sample = resample(sample_loans_inc, replace=True)\n",
    "    results.append(sample.median())\n",
    "\n",
    "results = pd.Series(results)\n",
    "print(\"Bootstrap Statistics: \")\n",
    "print(f\"Original: {loans_income.median()}\")\n",
    "print(f\"Bias: {results.mean() - loans_income.median()}\")\n",
    "print(f\"Std. Error: {results.std()}\")"
   ]
  },
  {
   "cell_type": "markdown",
   "id": "b691e169-39c3-4197-ba9e-4f697c749745",
   "metadata": {},
   "source": [
    "Origianl Estimate of median is \\\\$62,000. The bootStrap distribution indicates that the estimate has a bias of about -\\\\$86 and standard error of \\\\$231. The results will vary slightly between consecutive runs of this algorithm."
   ]
  },
  {
   "cell_type": "code",
   "execution_count": 6,
   "id": "583b220a-5974-403c-a0c0-8d654ae934be",
   "metadata": {},
   "outputs": [
    {
     "data": {
      "text/plain": [
       "(array([  2.,   3.,   4., 118.,  96.,  59., 680.,   9.,  23.,   6.]),\n",
       " array([60000., 60300., 60600., 60900., 61200., 61500., 61800., 62100.,\n",
       "        62400., 62700., 63000.]),\n",
       " <BarContainer object of 10 artists>)"
      ]
     },
     "execution_count": 6,
     "metadata": {},
     "output_type": "execute_result"
    },
    {
     "data": {
      "image/png": "[encoded data removed]",
      "text/plain": [
       "<Figure size 432x288 with 1 Axes>"
      ]
     },
     "metadata": {
      "needs_background": "light"
     },
     "output_type": "display_data"
    }
   ],
   "source": [
    "plt.hist(results)"
   ]
  },
  {
   "cell_type": "markdown",
   "id": "6967b11d-e56d-4a0e-b14d-5912a2011f5e",
   "metadata": {},
   "source": [
    "### 2. Standardization vs Normalization\n",
    "\n",
    "- References:\n",
    "    1. [About Feature Scaling](https://sebastianraschka.com/Articles/2014_about_feature_scaling.html)\n",
    "    2. [Comparison](https://towardsdatascience.com/normalization-vs-standardization-quantitative-analysis-a91e8a79cebf)"
   ]
  },
  {
   "cell_type": "code",
   "execution_count": 8,
   "id": "2a884184-ab37-4594-8dd4-f07eec517327",
   "metadata": {},
   "outputs": [
    {
     "data": {
      "text/html": [
       "<div>\n",
       "<style scoped>\n",
       "    .dataframe tbody tr th:only-of-type {\n",
       "        vertical-align: middle;\n",
       "    }\n",
       "\n",
       "    .dataframe tbody tr th {\n",
       "        vertical-align: top;\n",
       "    }\n",
       "\n",
       "    .dataframe thead th {\n",
       "        text-align: right;\n",
       "    }\n",
       "</style>\n",
       "<table border=\"1\" class=\"dataframe\">\n",
       "  <thead>\n",
       "    <tr style=\"text-align: right;\">\n",
       "      <th></th>\n",
       "      <th>Class label</th>\n",
       "      <th>Alcohol</th>\n",
       "      <th>Malic acid</th>\n",
       "    </tr>\n",
       "  </thead>\n",
       "  <tbody>\n",
       "    <tr>\n",
       "      <th>0</th>\n",
       "      <td>1</td>\n",
       "      <td>14.23</td>\n",
       "      <td>1.71</td>\n",
       "    </tr>\n",
       "    <tr>\n",
       "      <th>1</th>\n",
       "      <td>1</td>\n",
       "      <td>13.20</td>\n",
       "      <td>1.78</td>\n",
       "    </tr>\n",
       "    <tr>\n",
       "      <th>2</th>\n",
       "      <td>1</td>\n",
       "      <td>13.16</td>\n",
       "      <td>2.36</td>\n",
       "    </tr>\n",
       "    <tr>\n",
       "      <th>3</th>\n",
       "      <td>1</td>\n",
       "      <td>14.37</td>\n",
       "      <td>1.95</td>\n",
       "    </tr>\n",
       "  </tbody>\n",
       "</table>\n",
       "</div>"
      ],
      "text/plain": [
       "   Class label  Alcohol  Malic acid\n",
       "0            1    14.23        1.71\n",
       "1            1    13.20        1.78\n",
       "2            1    13.16        2.36\n",
       "3            1    14.37        1.95"
      ]
     },
     "execution_count": 8,
     "metadata": {},
     "output_type": "execute_result"
    }
   ],
   "source": [
    "import pandas as pd\n",
    "import numpy as np\n",
    "\n",
    "df = pd.io.parsers.read_csv(\n",
    "    'https://raw.githubusercontent.com/rasbt/pattern_classification/master/data/wine_data.csv',\n",
    "     header=None,\n",
    "     usecols=[0,1,2]\n",
    "    )\n",
    "\n",
    "df.columns=['Class label', 'Alcohol', 'Malic acid']\n",
    "\n",
    "df.head(4)"
   ]
  },
  {
   "cell_type": "code",
   "execution_count": 9,
   "id": "d3ff964f-0d03-4fdc-9423-5f23f89ad300",
   "metadata": {},
   "outputs": [],
   "source": [
    "from sklearn.preprocessing import StandardScaler, MinMaxScaler\n",
    "std_sc = StandardScaler()\n",
    "std_sc.fit(df[['Alcohol', 'Malic acid']])\n",
    "df_std = std_sc.transform(df[['Alcohol', 'Malic acid']])\n",
    "\n",
    "nrm_sc = MinMaxScaler()\n",
    "nrm_sc.fit(df[['Alcohol', 'Malic acid']])\n",
    "df_nrm = nrm_sc.transform(df[['Alcohol','Malic acid']])"
   ]
  },
  {
   "cell_type": "code",
   "execution_count": 21,
   "id": "7d932e04-4cb4-479e-b830-58034e7883c7",
   "metadata": {},
   "outputs": [
    {
     "name": "stdout",
     "output_type": "stream",
     "text": [
      "Mean after Standardization:\tAlcohol=-0.00, Malic acid=-0.00\n",
      "Std. Deviation after Standardization:\tAlcohol=1.00, Malic acid=1.00\n",
      "\n",
      "Min Value Normalization:\tAlcohol=0.00, Malic acid=0.00\n",
      "Max Value after Normalization:\tAlcohol=1.00, Malic acid=1.00\n"
     ]
    }
   ],
   "source": [
    "print(\"Mean after Standardization:\\tAlcohol={:.2f}, Malic acid={:.2f}\"\n",
    "     .format(df_std[:, 0].mean(), df_std[:, 1].mean()))\n",
    "print(\"Std. Deviation after Standardization:\\tAlcohol={:.2f}, Malic acid={:.2f}\"\n",
    "     .format(df_std[:, 0].std(), df_std[:, 1].std()))\n",
    "print()\n",
    "print(\"Min Value Normalization:\\tAlcohol={:.2f}, Malic acid={:.2f}\"\n",
    "     .format(df_nrm[:, 0].min(), df_nrm[:, 1].min()))\n",
    "print(\"Max Value after Normalization:\\tAlcohol={:.2f}, Malic acid={:.2f}\"\n",
    "     .format(df_nrm[:, 0].max(), df_nrm[:, 1].max()))"
   ]
  },
  {
   "cell_type": "code",
   "execution_count": 33,
   "id": "2abe8d9f-74e3-4190-8acc-6cfee0cafedb",
   "metadata": {},
   "outputs": [
    {
     "data": {
      "image/png": "[encoded data removed]",
      "text/plain": [
       "<Figure size 576x360 with 1 Axes>"
      ]
     },
     "metadata": {
      "needs_background": "light"
     },
     "output_type": "display_data"
    }
   ],
   "source": [
    "#plotting before and after results\n",
    "plt.figure(figsize=(8,5))\n",
    "plt.scatter(df['Alcohol'], df['Malic acid'], color = \"red\", alpha=0.5, label=\"Input Scale\")\n",
    "\n",
    "plt.scatter(df_std[:,0], df_std[:,1], color = \"green\", alpha=0.3, \n",
    "            label='Standardized [$N  (\\mu=0, \\; \\sigma=1)$]')\n",
    "\n",
    "plt.scatter(df_nrm[:,0] , df_nrm[:,1], color = \"blue\", alpha=0.3, \n",
    "           label=\"Normalization: [min=0, max=1]\")\n",
    "\n",
    "plt.title('Alcohol and Malic Acid content of the wine dataset')\n",
    "plt.xlabel('Alcohol')\n",
    "plt.ylabel('Malic Acid')\n",
    "plt.legend(loc=\"upper left\")\n",
    "plt.tight_layout()\n",
    "plt.grid()\n",
    "plt.show()\n"
   ]
  },
  {
   "cell_type": "code",
   "execution_count": null,
   "id": "0b3a40ba-f212-4a2a-b73c-d58b9d5050ed",
   "metadata": {},
   "outputs": [],
   "source": []
  }
 ],
 "metadata": {
  "kernelspec": {
   "display_name": "opencv",
   "language": "python",
   "name": "opencv"
  },
  "language_info": {
   "codemirror_mode": {
    "name": "ipython",
    "version": 3
   },
   "file_extension": ".py",
   "mimetype": "text/x-python",
   "name": "python",
   "nbconvert_exporter": "python",
   "pygments_lexer": "ipython3",
   "version": "3.7.10"
  }
 },
 "nbformat": 4,
 "nbformat_minor": 5
}
