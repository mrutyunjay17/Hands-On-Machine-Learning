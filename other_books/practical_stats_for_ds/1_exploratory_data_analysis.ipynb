{
 "cells": [
  {
   "cell_type": "code",
   "execution_count": 1,
   "id": "a6e08eaf-58d3-4b43-894a-e45be36505dd",
   "metadata": {},
   "outputs": [],
   "source": [
    "import pandas as pd\n",
    "import numpy as np\n",
    "import matplotlib.pyplot as plt\n",
    "import scipy.stats as st\n",
    "import wquantiles as wq"
   ]
  },
  {
   "cell_type": "code",
   "execution_count": 25,
   "id": "71361e29-721b-4bba-b8d2-884d8cd655ba",
   "metadata": {},
   "outputs": [],
   "source": [
    "import statsmodels.api as stm"
   ]
  },
  {
   "cell_type": "markdown",
   "id": "86f476bd-53b5-43ab-9ff5-4fd5cdd1c85a",
   "metadata": {},
   "source": [
    "### 1. Estimates of location"
   ]
  },
  {
   "cell_type": "code",
   "execution_count": 2,
   "id": "a5b682f0-b73e-44c5-a4dd-b9377dac3bb4",
   "metadata": {},
   "outputs": [
    {
     "data": {
      "text/html": [
       "<div>\n",
       "<style scoped>\n",
       "    .dataframe tbody tr th:only-of-type {\n",
       "        vertical-align: middle;\n",
       "    }\n",
       "\n",
       "    .dataframe tbody tr th {\n",
       "        vertical-align: top;\n",
       "    }\n",
       "\n",
       "    .dataframe thead th {\n",
       "        text-align: right;\n",
       "    }\n",
       "</style>\n",
       "<table border=\"1\" class=\"dataframe\">\n",
       "  <thead>\n",
       "    <tr style=\"text-align: right;\">\n",
       "      <th></th>\n",
       "      <th>State</th>\n",
       "      <th>Population</th>\n",
       "      <th>Murder.Rate</th>\n",
       "      <th>Abbreviation</th>\n",
       "    </tr>\n",
       "  </thead>\n",
       "  <tbody>\n",
       "    <tr>\n",
       "      <th>0</th>\n",
       "      <td>Alabama</td>\n",
       "      <td>4779736</td>\n",
       "      <td>5.7</td>\n",
       "      <td>AL</td>\n",
       "    </tr>\n",
       "    <tr>\n",
       "      <th>1</th>\n",
       "      <td>Alaska</td>\n",
       "      <td>710231</td>\n",
       "      <td>5.6</td>\n",
       "      <td>AK</td>\n",
       "    </tr>\n",
       "    <tr>\n",
       "      <th>2</th>\n",
       "      <td>Arizona</td>\n",
       "      <td>6392017</td>\n",
       "      <td>4.7</td>\n",
       "      <td>AZ</td>\n",
       "    </tr>\n",
       "  </tbody>\n",
       "</table>\n",
       "</div>"
      ],
      "text/plain": [
       "     State  Population  Murder.Rate Abbreviation\n",
       "0  Alabama     4779736          5.7           AL\n",
       "1   Alaska      710231          5.6           AK\n",
       "2  Arizona     6392017          4.7           AZ"
      ]
     },
     "execution_count": 2,
     "metadata": {},
     "output_type": "execute_result"
    }
   ],
   "source": [
    "df = pd.read_csv(\"https://raw.githubusercontent.com/gedeck/practical-statistics-for-data-scientists/master/data/state.csv\")\n",
    "df.head(3)"
   ]
  },
  {
   "cell_type": "code",
   "execution_count": 5,
   "id": "8e75eaaa-57c0-4c66-a343-47c096dcda48",
   "metadata": {},
   "outputs": [
    {
     "name": "stdout",
     "output_type": "stream",
     "text": [
      "Mean Population:  6162876.3\n",
      "Trimmed Mean Population:  4783697.125\n",
      "Median Population:  4436369.5\n",
      "\n",
      "Weighted(Murder.Rate) Mean Population:  4.445833981123393\n",
      "Weighted(Murder.Rate) Median Population:  4.4\n"
     ]
    }
   ],
   "source": [
    "print(\"Mean Population: \", df['Population'].mean())\n",
    "print(\"Trimmed Mean Population: \", st.trim_mean(df['Population'], 0.10))\n",
    "print(\"Median Population: \", df['Population'].median())\n",
    "print(\"\\nWeighted(Murder.Rate) Mean Population: \", np.average(df['Murder.Rate'], weights=df['Population']))\n",
    "print(\"Weighted(Murder.Rate) Median Population: \", wq.median(df['Murder.Rate'], weights=df['Population']))"
   ]
  },
  {
   "cell_type": "markdown",
   "id": "b9eac9a9-1851-4f4a-afff-e0b84f322bad",
   "metadata": {},
   "source": [
    "### 2. Estimates of Variablity"
   ]
  },
  {
   "cell_type": "code",
   "execution_count": 27,
   "id": "08b65a9b-bcb4-4a78-ba02-0f20fbc0ab81",
   "metadata": {},
   "outputs": [
    {
     "name": "stdout",
     "output_type": "stream",
     "text": [
      "Std. Deviation:  6848235.347401142\n",
      "IQR:  4847308.0\n",
      "Median Absolute Deviation from Median:  3849876.1459979336\n"
     ]
    },
    {
     "data": {
      "text/plain": [
       "0.25    1833004.25\n",
       "0.50    4436369.50\n",
       "0.75    6680312.25\n",
       "Name: Population, dtype: float64"
      ]
     },
     "execution_count": 27,
     "metadata": {},
     "output_type": "execute_result"
    }
   ],
   "source": [
    "print(\"Std. Deviation: \", df['Population'].std())\n",
    "print(\"IQR: \", (df['Population'].quantile(0.75)- df['Population'].quantile(0.25)))\n",
    "print(\"Median Absolute Deviation from Median: \", stm.robust.scale.mad(df['Population']))\n",
    "\n",
    "df['Population'].quantile([0.25, 0.5, 0.75])"
   ]
  },
  {
   "cell_type": "code",
   "execution_count": 28,
   "id": "681353de-a3a5-469e-bfde-00221f66da94",
   "metadata": {},
   "outputs": [
    {
     "data": {
      "text/plain": [
       "Text(0, 0.5, 'Population (Millions)')"
      ]
     },
     "execution_count": 28,
     "metadata": {},
     "output_type": "execute_result"
    },
    {
     "data": {
      "image/png": "[encoded data removed]",
      "text/plain": [
       "<Figure size 432x288 with 1 Axes>"
      ]
     },
     "metadata": {
      "needs_background": "light"
     },
     "output_type": "display_data"
    }
   ],
   "source": [
    "ax = (df['Population'] / 1_000_000).plot.box()\n",
    "ax.set_ylabel(\"Population (Millions)\")"
   ]
  }
 ],
 "metadata": {
  "kernelspec": {
   "display_name": "opencv",
   "language": "python",
   "name": "opencv"
  },
  "language_info": {
   "codemirror_mode": {
    "name": "ipython",
    "version": 3
   },
   "file_extension": ".py",
   "mimetype": "text/x-python",
   "name": "python",
   "nbconvert_exporter": "python",
   "pygments_lexer": "ipython3",
   "version": "3.7.10"
  }
 },
 "nbformat": 4,
 "nbformat_minor": 5
}
