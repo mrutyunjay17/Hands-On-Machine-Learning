{
 "cells": [
  {
   "cell_type": "code",
   "execution_count": 1,
   "id": "bb9b5474-2a15-4010-9c45-6c759f94abaf",
   "metadata": {},
   "outputs": [],
   "source": [
    "%matplotlib inline\n",
    "\n",
    "from pathlib import Path\n",
    "import random\n",
    "\n",
    "import pandas as pd\n",
    "import numpy as np\n",
    "\n",
    "from scipy import stats\n",
    "import statsmodels.api as sm\n",
    "import statsmodels.formula.api as smf\n",
    "from statsmodels.stats import power\n",
    "\n",
    "import matplotlib.pylab as plt"
   ]
  },
  {
   "cell_type": "markdown",
   "id": "e12256a2-237a-4b54-b66f-f377ad71bff9",
   "metadata": {},
   "source": [
    "### Resampling"
   ]
  },
  {
   "cell_type": "code",
   "execution_count": 8,
   "id": "36d0ffb2-f55e-42da-9012-bedbc4155151",
   "metadata": {},
   "outputs": [],
   "source": [
    "session_times = pd.read_csv(\"https://raw.githubusercontent.com/gedeck/practical-statistics-for-data-scientists/master/data/web_page_data.csv\")\n",
    "session_times.Time = 100 * session_times.Time"
   ]
  },
  {
   "cell_type": "code",
   "execution_count": 9,
   "id": "04d06688-5b6f-427e-9b34-939f4c7e7cbc",
   "metadata": {},
   "outputs": [
    {
     "name": "stdout",
     "output_type": "stream",
     "text": [
      "        Time\n",
      "Page        \n",
      "Page A    21\n",
      "Page B    15\n",
      "\n"
     ]
    },
    {
     "data": {
      "text/html": [
       "<div>\n",
       "<style scoped>\n",
       "    .dataframe tbody tr th:only-of-type {\n",
       "        vertical-align: middle;\n",
       "    }\n",
       "\n",
       "    .dataframe tbody tr th {\n",
       "        vertical-align: top;\n",
       "    }\n",
       "\n",
       "    .dataframe thead th {\n",
       "        text-align: right;\n",
       "    }\n",
       "</style>\n",
       "<table border=\"1\" class=\"dataframe\">\n",
       "  <thead>\n",
       "    <tr style=\"text-align: right;\">\n",
       "      <th></th>\n",
       "      <th>Page</th>\n",
       "      <th>Time</th>\n",
       "    </tr>\n",
       "  </thead>\n",
       "  <tbody>\n",
       "    <tr>\n",
       "      <th>0</th>\n",
       "      <td>Page A</td>\n",
       "      <td>21.0</td>\n",
       "    </tr>\n",
       "    <tr>\n",
       "      <th>1</th>\n",
       "      <td>Page B</td>\n",
       "      <td>253.0</td>\n",
       "    </tr>\n",
       "    <tr>\n",
       "      <th>2</th>\n",
       "      <td>Page A</td>\n",
       "      <td>35.0</td>\n",
       "    </tr>\n",
       "    <tr>\n",
       "      <th>3</th>\n",
       "      <td>Page B</td>\n",
       "      <td>71.0</td>\n",
       "    </tr>\n",
       "  </tbody>\n",
       "</table>\n",
       "</div>"
      ],
      "text/plain": [
       "     Page   Time\n",
       "0  Page A   21.0\n",
       "1  Page B  253.0\n",
       "2  Page A   35.0\n",
       "3  Page B   71.0"
      ]
     },
     "execution_count": 9,
     "metadata": {},
     "output_type": "execute_result"
    }
   ],
   "source": [
    "print(session_times.groupby(by=\"Page\").count())\n",
    "print()\n",
    "session_times.head(4)"
   ]
  },
  {
   "cell_type": "code",
   "execution_count": 6,
   "id": "889bce5b-b033-4187-84fd-e6b0481d08d9",
   "metadata": {},
   "outputs": [
    {
     "data": {
      "image/png": "[encoded data removed]",
      "text/plain": [
       "<Figure size 432x288 with 1 Axes>"
      ]
     },
     "metadata": {
      "needs_background": "light"
     },
     "output_type": "display_data"
    }
   ],
   "source": [
    "ax = session_times.boxplot(by=\"Page\", column=\"Time\")\n",
    "ax.set_xlabel('')\n",
    "ax.set_ylabel('Time (in seconds)')\n",
    "plt.suptitle('')\n",
    "plt.show()"
   ]
  },
  {
   "cell_type": "code",
   "execution_count": 12,
   "id": "2b983883-1045-4afe-83b9-26af4d102ec8",
   "metadata": {},
   "outputs": [
    {
     "data": {
      "text/plain": [
       "35.66666666666667"
      ]
     },
     "execution_count": 12,
     "metadata": {},
     "output_type": "execute_result"
    }
   ],
   "source": [
    "mean_a = session_times[session_times.Page == 'Page A'].Time.mean()\n",
    "mean_b = session_times[session_times.Page == 'Page B'].Time.mean()\n",
    "mean_b - mean_a"
   ]
  },
  {
   "cell_type": "markdown",
   "id": "d03803bd-2f80-4428-9974-cdf37bd6d816",
   "metadata": {},
   "source": [
    "Page B has session time greater than Page A by 35.67 seconds on average. But the question is whether this difference is within the range of what random chancne might produce i.e. statistically insignificant.  \n",
    "Let's apply permutation test - combine all sessions times together and then repeatedly shuffle and divide them into groups of 21 (as ${n_A}=21$) and 15 (as ${n_B}=15$)"
   ]
  },
  {
   "cell_type": "code",
   "execution_count": 4,
   "id": "a382a143-45cb-4827-8fac-d08705817bca",
   "metadata": {},
   "outputs": [],
   "source": [
    "def permute(x, na, nb):\n",
    "    n = na+nb\n",
    "    idx_B = set(random.sample(range(n), nb)) #Sampling without replacement\n",
    "    idx_A = set(range(n)) - idx_B\n",
    "    return x.loc[idx_B].mean() - x.loc[idx_A].mean()"
   ]
  },
  {
   "cell_type": "code",
   "execution_count": null,
   "id": "f7325e84-8119-44f8-b821-bdf266cc2fd8",
   "metadata": {},
   "outputs": [],
   "source": [
    "\n",
    "na = session_times[session_times.Page==\"Page A\"].shape[0]\n",
    "nb = session_times[session_times.Page==\"Page B\"].shape[0]\n",
    "\n",
    "print(permute(session_times.Time, na, nb))"
   ]
  },
  {
   "cell_type": "code",
   "execution_count": 33,
   "id": "1c5874b6-27a0-42d8-9465-74b21e91f2d4",
   "metadata": {},
   "outputs": [
    {
     "data": {
      "image/png": "[encoded data removed]",
      "text/plain": [
       "<Figure size 360x360 with 1 Axes>"
      ]
     },
     "metadata": {
      "needs_background": "light"
     },
     "output_type": "display_data"
    }
   ],
   "source": [
    "random.seed(1)\n",
    "perm_diffs = [ permute(session_times.Time, na, nb) for _ in range(1000) ]\n",
    "\n",
    "fig, ax = plt.subplots(figsize=(5, 5))\n",
    "ax.hist(perm_diffs, bins=11, rwidth=0.9)\n",
    "ax.axvline(x = mean_b - mean_a, color='black', lw=2)\n",
    "ax.text(50, 190, 'Observed\\ndifference', bbox={'facecolor':'white'})\n",
    "ax.set_xlabel('Session time differences (in seconds)')\n",
    "ax.set_ylabel('Frequency')\n",
    "\n",
    "plt.tight_layout()\n",
    "plt.show()"
   ]
  },
  {
   "cell_type": "code",
   "execution_count": 36,
   "id": "43328d7a-7fa4-447e-8e59-c92e4cf1959d",
   "metadata": {},
   "outputs": [
    {
     "name": "stdout",
     "output_type": "stream",
     "text": [
      "0.121\n"
     ]
    }
   ],
   "source": [
    "print(np.mean(np.array(perm_diffs) > (mean_b - mean_a)))"
   ]
  },
  {
   "cell_type": "markdown",
   "id": "992d2d79-2412-4d7b-a5a2-8d3b82dcebe4",
   "metadata": {},
   "source": [
    "So mean difference of random permutations often exceeds the observed difference in session times (vertical line). For our result, this happens in 12.1% of the cases.  \n",
    "Thus suggests that the observed difference in session time between page A and page B is well within the range of chance variation and thus is not statistically significant.  \n",
    "\n",
    "### Statistical Significance and P-Values"
   ]
  },
  {
   "cell_type": "code",
   "execution_count": 5,
   "id": "c2324b36-5afe-4b1f-a20f-629e7ae3e148",
   "metadata": {},
   "outputs": [
    {
     "name": "stdout",
     "output_type": "stream",
     "text": [
      "Observed difference: 0.0368%\n"
     ]
    },
    {
     "data": {
      "image/png": "[encoded data removed]",
      "text/plain": [
       "<Figure size 360x360 with 1 Axes>"
      ]
     },
     "metadata": {
      "needs_background": "light"
     },
     "output_type": "display_data"
    }
   ],
   "source": [
    "random.seed(1)\n",
    "obs_pct_diff = 100 * (200 / 23739 - 182 / 22588)\n",
    "print(f'Observed difference: {obs_pct_diff:.4f}%')\n",
    "conversion = [0] * 45945\n",
    "conversion.extend([1] * 382)\n",
    "conversion = pd.Series(conversion)\n",
    "\n",
    "perm_diffs = [100 * permute(conversion, 23739, 22588) \n",
    "              for _ in range(1000)]\n",
    "\n",
    "fig, ax = plt.subplots(figsize=(5, 5))\n",
    "ax.hist(perm_diffs, bins=11, rwidth=0.9)\n",
    "ax.axvline(x=obs_pct_diff, color='black', lw=2)\n",
    "ax.text(0.06, 200, 'Observed\\ndifference', bbox={'facecolor':'white'})\n",
    "ax.set_xlabel('Conversion rate (percent)')\n",
    "ax.set_ylabel('Frequency')\n",
    "\n",
    "plt.tight_layout()\n",
    "plt.show()"
   ]
  },
  {
   "cell_type": "markdown",
   "id": "da76e175-8cf8-4a15-b15b-d351ef3438e5",
   "metadata": {},
   "source": [
    "#### P value"
   ]
  },
  {
   "cell_type": "code",
   "execution_count": 6,
   "id": "f7fd2065-5007-487c-9479-a5fb72db09db",
   "metadata": {},
   "outputs": [
    {
     "name": "stdout",
     "output_type": "stream",
     "text": [
      "0.332\n"
     ]
    }
   ],
   "source": [
    "print(np.mean([diff > obs_pct_diff for diff in perm_diffs]))"
   ]
  },
  {
   "cell_type": "code",
   "execution_count": 13,
   "id": "2a36adfb-fe2d-4a44-87e8-2a21f0753ef7",
   "metadata": {},
   "outputs": [
    {
     "name": "stdout",
     "output_type": "stream",
     "text": [
      "p-value for single sided test: 0.3498\n"
     ]
    }
   ],
   "source": [
    "survivors = np.array([[200, 23739 - 200], [182, 22588 - 182]])\n",
    "chi2, p_value, df, _ = stats.chi2_contingency(survivors)\n",
    "\n",
    "print(f'p-value for single sided test: {p_value / 2:.4f}')"
   ]
  },
  {
   "cell_type": "markdown",
   "id": "c2c06780-d087-4317-8d3c-f764176a33dc",
   "metadata": {},
   "source": [
    "#### T test"
   ]
  },
  {
   "cell_type": "code",
   "execution_count": 18,
   "id": "e86e68e8-b606-41b0-938b-17455064202b",
   "metadata": {},
   "outputs": [
    {
     "name": "stdout",
     "output_type": "stream",
     "text": [
      "p value for single sided test  0.1408\n"
     ]
    }
   ],
   "source": [
    "res = stats.ttest_ind(session_times[session_times.Page == 'Page A'].Time, \n",
    "                     session_times[session_times.Page == 'Page B'].Time, equal_var=False)\n",
    "\n",
    "print(f\"p value for single sided test {res.pvalue/2 : .4f}\")"
   ]
  },
  {
   "cell_type": "code",
   "execution_count": 21,
   "id": "dfb60016-baae-49a6-9817-aeecfafdcc85",
   "metadata": {},
   "outputs": [
    {
     "name": "stdout",
     "output_type": "stream",
     "text": [
      "p value for single sided test  0.1408\n"
     ]
    }
   ],
   "source": [
    "tstat, pvalue, df = sm.stats.ttest_ind(session_times[session_times.Page == 'Page A'].Time, \n",
    "    session_times[session_times.Page == 'Page B'].Time,\n",
    "                                      usevar='unequal', alternative='smaller')\n",
    "print(f\"p value for single sided test {pvalue : .4f}\")"
   ]
  },
  {
   "cell_type": "markdown",
   "id": "44f13b18-b136-44f4-9fca-9c67104bcfe2",
   "metadata": {},
   "source": [
    "Alternative hypothesis is that the session time mean for page A is less than that for page B.  \n",
    "\n",
    "#### ANOVA"
   ]
  },
  {
   "cell_type": "code",
   "execution_count": 23,
   "id": "ea2aae41-0f0c-4302-958d-389b7a296c20",
   "metadata": {},
   "outputs": [
    {
     "data": {
      "image/png": "[encoded data removed]",
      "text/plain": [
       "<Figure size 288x288 with 1 Axes>"
      ]
     },
     "metadata": {
      "needs_background": "light"
     },
     "output_type": "display_data"
    }
   ],
   "source": [
    "four_sessions = pd.read_csv(\"https://raw.githubusercontent.com/gedeck/practical-statistics-for-data-scientists/master/data/four_sessions.csv\")\n",
    "\n",
    "ax = four_sessions.boxplot(by='Page', column='Time',\n",
    "                           figsize=(4, 4))\n",
    "ax.set_xlabel('Page')\n",
    "ax.set_ylabel('Time (in seconds)')\n",
    "plt.suptitle('')\n",
    "plt.title('')\n",
    "\n",
    "plt.tight_layout()\n",
    "plt.show()"
   ]
  },
  {
   "cell_type": "code",
   "execution_count": 25,
   "id": "a932be92-9b0f-43bd-b118-1487d35ccced",
   "metadata": {},
   "outputs": [
    {
     "name": "stdout",
     "output_type": "stream",
     "text": [
      "Observed means: [172.8 182.6 175.6 164.6]\n",
      "Variance: 55.426666666666655\n",
      "61.18666666666678\n"
     ]
    }
   ],
   "source": [
    "observed_variance = four_sessions.groupby('Page').mean().var()[0]\n",
    "print('Observed means:', four_sessions.groupby('Page').mean().values.ravel())\n",
    "print('Variance:', observed_variance)\n",
    "# Permutation test example with stickiness\n",
    "def perm_test(df):\n",
    "    df = df.copy()\n",
    "    df['Time'] = np.random.permutation(df['Time'].values)\n",
    "    return df.groupby('Page').mean().var()[0]\n",
    "    \n",
    "print(perm_test(four_sessions))"
   ]
  },
  {
   "cell_type": "code",
   "execution_count": 26,
   "id": "50dd7c6d-7471-4766-8df1-034526404763",
   "metadata": {},
   "outputs": [
    {
     "name": "stdout",
     "output_type": "stream",
     "text": [
      "Pr(Prob) 0.07866666666666666\n"
     ]
    },
    {
     "data": {
      "image/png": "[encoded data removed]",
      "text/plain": [
       "<Figure size 360x360 with 1 Axes>"
      ]
     },
     "metadata": {
      "needs_background": "light"
     },
     "output_type": "display_data"
    }
   ],
   "source": [
    "random.seed(1)\n",
    "perm_variance = [perm_test(four_sessions) for _ in range(3000)]\n",
    "print('Pr(Prob)', np.mean([var > observed_variance for var in perm_variance]))\n",
    "\n",
    "fig, ax = plt.subplots(figsize=(5, 5))\n",
    "ax.hist(perm_variance, bins=11, rwidth=0.9)\n",
    "ax.axvline(x = observed_variance, color='black', lw=2)\n",
    "ax.text(60, 200, 'Observed\\nvariance', bbox={'facecolor':'white'})\n",
    "ax.set_xlabel('Variance')\n",
    "ax.set_ylabel('Frequency')\n",
    "\n",
    "plt.tight_layout()\n",
    "plt.show()"
   ]
  },
  {
   "cell_type": "markdown",
   "id": "6ae970d9-7f48-416e-bff5-0d8d1a4ec5c2",
   "metadata": {},
   "source": [
    "##### F Statistic"
   ]
  },
  {
   "cell_type": "code",
   "execution_count": 29,
   "id": "6416e3e8-4b9c-48d4-8e5f-d952eafc08d1",
   "metadata": {},
   "outputs": [
    {
     "name": "stdout",
     "output_type": "stream",
     "text": [
      "            df  sum_sq     mean_sq         F    PR(>F)\n",
      "Page       3.0   831.4  277.133333  2.739825  0.077586\n",
      "Residual  16.0  1618.4  101.150000       NaN       NaN\n"
     ]
    }
   ],
   "source": [
    "model = smf.ols('Time ~ Page', data=four_sessions).fit()\n",
    "aov_table  = sm.stats.anova_lm(model)\n",
    "print(aov_table)"
   ]
  },
  {
   "cell_type": "code",
   "execution_count": 30,
   "id": "0700b25c-7d44-4852-b16e-9c593533e2c7",
   "metadata": {},
   "outputs": [
    {
     "name": "stdout",
     "output_type": "stream",
     "text": [
      "F-Statistic: 1.3699\n",
      "p-value: 0.0388\n"
     ]
    }
   ],
   "source": [
    "res = stats.f_oneway(four_sessions[four_sessions.Page == 'Page 1'].Time, \n",
    "                     four_sessions[four_sessions.Page == 'Page 2'].Time,\n",
    "                     four_sessions[four_sessions.Page == 'Page 3'].Time,\n",
    "                     four_sessions[four_sessions.Page == 'Page 4'].Time)\n",
    "print(f'F-Statistic: {res.statistic / 2:.4f}')\n",
    "print(f'p-value: {res.pvalue / 2:.4f}')"
   ]
  },
  {
   "cell_type": "markdown",
   "id": "0b936ef0-e59b-44be-9bb8-b4be47fb15f5",
   "metadata": {},
   "source": [
    "##### Two-way anova only available with statsmodels  \n",
    "\n",
    "```python\n",
    "formula = 'len ~ C(supp) + C(dose) + C(supp):C(dose)'\n",
    "model = smf.ols(formula, four_sessions).fit()\n",
    "aov_table = anova_lm(model, typ=2)\n",
    "print(aov_table)\n",
    "```"
   ]
  },
  {
   "cell_type": "markdown",
   "id": "17880645-5281-4457-91aa-d55d002c33ae",
   "metadata": {},
   "source": [
    "#### Chi Square test  \n",
    "##### Resampling approach"
   ]
  },
  {
   "cell_type": "code",
   "execution_count": 2,
   "id": "b23c6711-faf1-4fac-b581-03bb9b83483f",
   "metadata": {},
   "outputs": [
    {
     "name": "stdout",
     "output_type": "stream",
     "text": [
      "Headline  Headline A  Headline B  Headline C\n",
      "Click                                       \n",
      "Click             14           8          12\n",
      "No-click         986         992         988\n"
     ]
    }
   ],
   "source": [
    "# Table 3-4\n",
    "click_rate = pd.read_csv(\"https://raw.githubusercontent.com/gedeck/practical-statistics-for-data-scientists/master/data/click_rates.csv\")\n",
    "clicks = click_rate.pivot(index='Click', columns='Headline', values='Rate')\n",
    "print(clicks)"
   ]
  },
  {
   "cell_type": "code",
   "execution_count": 3,
   "id": "e6ffc72d-1c34-48a2-90e6-234867959960",
   "metadata": {},
   "outputs": [
    {
     "data": {
      "text/html": [
       "<div>\n",
       "<style scoped>\n",
       "    .dataframe tbody tr th:only-of-type {\n",
       "        vertical-align: middle;\n",
       "    }\n",
       "\n",
       "    .dataframe tbody tr th {\n",
       "        vertical-align: top;\n",
       "    }\n",
       "\n",
       "    .dataframe thead th {\n",
       "        text-align: right;\n",
       "    }\n",
       "</style>\n",
       "<table border=\"1\" class=\"dataframe\">\n",
       "  <thead>\n",
       "    <tr style=\"text-align: right;\">\n",
       "      <th></th>\n",
       "      <th>Headline</th>\n",
       "      <th>Click</th>\n",
       "      <th>Rate</th>\n",
       "    </tr>\n",
       "  </thead>\n",
       "  <tbody>\n",
       "    <tr>\n",
       "      <th>0</th>\n",
       "      <td>Headline A</td>\n",
       "      <td>Click</td>\n",
       "      <td>14</td>\n",
       "    </tr>\n",
       "    <tr>\n",
       "      <th>1</th>\n",
       "      <td>Headline A</td>\n",
       "      <td>No-click</td>\n",
       "      <td>986</td>\n",
       "    </tr>\n",
       "  </tbody>\n",
       "</table>\n",
       "</div>"
      ],
      "text/plain": [
       "     Headline     Click  Rate\n",
       "0  Headline A     Click    14\n",
       "1  Headline A  No-click   986"
      ]
     },
     "execution_count": 3,
     "metadata": {},
     "output_type": "execute_result"
    }
   ],
   "source": [
    "click_rate.head(2)"
   ]
  },
  {
   "cell_type": "code",
   "execution_count": 4,
   "id": "6f09ae3c-8687-4a85-801c-695cca32c7c8",
   "metadata": {},
   "outputs": [
    {
     "data": {
      "text/html": [
       "<div>\n",
       "<style scoped>\n",
       "    .dataframe tbody tr th:only-of-type {\n",
       "        vertical-align: middle;\n",
       "    }\n",
       "\n",
       "    .dataframe tbody tr th {\n",
       "        vertical-align: top;\n",
       "    }\n",
       "\n",
       "    .dataframe thead th {\n",
       "        text-align: right;\n",
       "    }\n",
       "</style>\n",
       "<table border=\"1\" class=\"dataframe\">\n",
       "  <thead>\n",
       "    <tr style=\"text-align: right;\">\n",
       "      <th></th>\n",
       "      <th>Headline A</th>\n",
       "      <th>Headline B</th>\n",
       "      <th>Headline C</th>\n",
       "    </tr>\n",
       "    <tr>\n",
       "      <th>Click</th>\n",
       "      <th></th>\n",
       "      <th></th>\n",
       "      <th></th>\n",
       "    </tr>\n",
       "  </thead>\n",
       "  <tbody>\n",
       "    <tr>\n",
       "      <th>Click</th>\n",
       "      <td>11.333333</td>\n",
       "      <td>11.333333</td>\n",
       "      <td>11.333333</td>\n",
       "    </tr>\n",
       "    <tr>\n",
       "      <th>No-click</th>\n",
       "      <td>988.666667</td>\n",
       "      <td>988.666667</td>\n",
       "      <td>988.666667</td>\n",
       "    </tr>\n",
       "  </tbody>\n",
       "</table>\n",
       "</div>"
      ],
      "text/plain": [
       "          Headline A  Headline B  Headline C\n",
       "Click                                       \n",
       "Click      11.333333   11.333333   11.333333\n",
       "No-click  988.666667  988.666667  988.666667"
      ]
     },
     "execution_count": 4,
     "metadata": {},
     "output_type": "execute_result"
    }
   ],
   "source": [
    "row_average = clicks.mean(axis=1)\n",
    "pd.DataFrame({\n",
    "    'Headline A': row_average,\n",
    "    'Headline B': row_average,\n",
    "    'Headline C': row_average,\n",
    "})"
   ]
  },
  {
   "cell_type": "code",
   "execution_count": 5,
   "id": "91a0cdea-12ca-4a59-a3d0-353ce3bd546c",
   "metadata": {},
   "outputs": [
    {
     "name": "stdout",
     "output_type": "stream",
     "text": [
      "Observed chi2: 1.6659\n",
      "Resampled p-value: 0.4690\n"
     ]
    }
   ],
   "source": [
    "# Resampling approach\n",
    "box = [1] * 34\n",
    "box.extend([0] * 2966)\n",
    "random.shuffle(box)\n",
    "\n",
    "def chi2(observed, expected):\n",
    "    pearson_residuals = []\n",
    "    for row, expect in zip(observed, expected):\n",
    "        pearson_residuals.append([(observe - expect) ** 2 / expect\n",
    "                                  for observe in row])\n",
    "    # return sum of squares\n",
    "    return np.sum(pearson_residuals)\n",
    "\n",
    "expected_clicks = 34 / 3\n",
    "expected_noclicks = 1000 - expected_clicks\n",
    "expected = [34 / 3, 1000 - 34 / 3]\n",
    "chi2observed = chi2(clicks.values, expected)\n",
    "\n",
    "def perm_fun(box):\n",
    "    sample_clicks = [sum(random.sample(box, 1000)),\n",
    "                     sum(random.sample(box, 1000)),\n",
    "                     sum(random.sample(box, 1000))]\n",
    "    sample_noclicks = [1000 - n for n in sample_clicks]\n",
    "    return chi2([sample_clicks, sample_noclicks], expected)\n",
    "\n",
    "perm_chi2 = [perm_fun(box) for _ in range(2000)]\n",
    "\n",
    "resampled_p_value = sum(perm_chi2 > chi2observed) / len(perm_chi2)\n",
    "print(f'Observed chi2: {chi2observed:.4f}')\n",
    "print(f'Resampled p-value: {resampled_p_value:.4f}')"
   ]
  },
  {
   "cell_type": "code",
   "execution_count": 6,
   "id": "33e06497-90f7-4d92-b4c7-60841b4a0c2d",
   "metadata": {},
   "outputs": [
    {
     "name": "stdout",
     "output_type": "stream",
     "text": [
      "Observed chi2: 1.6659\n",
      "p-value: 0.4348\n"
     ]
    }
   ],
   "source": [
    "chisq, pvalue, df, expected = stats.chi2_contingency(clicks)\n",
    "print(f'Observed chi2: {chisq:.4f}')\n",
    "print(f'p-value: {pvalue:.4f}')"
   ]
  },
  {
   "cell_type": "markdown",
   "id": "7456c0b4-e89f-4470-b2da-fd248acb3a0e",
   "metadata": {},
   "source": [
    "##### Figure chi-sq distribution"
   ]
  },
  {
   "cell_type": "code",
   "execution_count": 7,
   "id": "4adb14d8-4c78-46ca-b57a-cbf73dad5c49",
   "metadata": {},
   "outputs": [
    {
     "data": {
      "image/png": "[encoded data removed]",
      "text/plain": [
       "<Figure size 288x180 with 1 Axes>"
      ]
     },
     "metadata": {
      "needs_background": "light"
     },
     "output_type": "display_data"
    }
   ],
   "source": [
    "x = [1 + i * (30 - 1) / 99 for i in range(100)]\n",
    "\n",
    "chi = pd.DataFrame({\n",
    "    'x': x,\n",
    "    'chi_1': stats.chi2.pdf(x, df=1),\n",
    "    'chi_2': stats.chi2.pdf(x, df=2),\n",
    "    'chi_5': stats.chi2.pdf(x, df=5),\n",
    "    'chi_10': stats.chi2.pdf(x, df=10),\n",
    "    'chi_20': stats.chi2.pdf(x, df=20),\n",
    "})\n",
    "fig, ax = plt.subplots(figsize=(4, 2.5))\n",
    "ax.plot(chi.x, chi.chi_1, color='black', linestyle='-', label='1')\n",
    "ax.plot(chi.x, chi.chi_2, color='black', linestyle=(0, (1, 1)), label='2')\n",
    "ax.plot(chi.x, chi.chi_5, color='black', linestyle=(0, (2, 1)), label='5')\n",
    "ax.plot(chi.x, chi.chi_10, color='black', linestyle=(0, (3, 1)), label='10')\n",
    "ax.plot(chi.x, chi.chi_20, color='black', linestyle=(0, (4, 1)), label='20')\n",
    "ax.legend(title='df')\n",
    "\n",
    "plt.tight_layout()\n",
    "plt.show()"
   ]
  },
  {
   "cell_type": "markdown",
   "id": "327689ae-9f83-4351-8de3-a430a78f6eea",
   "metadata": {},
   "source": [
    "#### Fisher's Exact Test\n",
    "Scipy has only an implementation of Fisher's Exact test for 2x2 matrices. There is a github repository that provides a Python implementation that uses the same code as the R version. Installing this requires a Fortran compiler.\n",
    "\n",
    "```Python\n",
    "stats.fisher_exact(clicks)\n",
    "```\n",
    "\n",
    "#### Scientific Fraud"
   ]
  },
  {
   "cell_type": "code",
   "execution_count": 10,
   "id": "6fd44a14-44a2-4d3e-a97e-32c900cde120",
   "metadata": {},
   "outputs": [
    {
     "data": {
      "image/png": "[encoded data removed]",
      "text/plain": [
       "<Figure size 288x288 with 1 Axes>"
      ]
     },
     "metadata": {
      "needs_background": "light"
     },
     "output_type": "display_data"
    }
   ],
   "source": [
    "imanishi = pd.read_csv(\"https://raw.githubusercontent.com/gedeck/practical-statistics-for-data-scientists/master/data/imanishi_data.csv\")\n",
    "imanishi.columns = [c.strip() for c in imanishi.columns]\n",
    "ax = imanishi.plot.bar(x='Digit', y=['Frequency'], legend=False,\n",
    "                      figsize=(4, 4))\n",
    "ax.set_xlabel('Digit')\n",
    "ax.set_ylabel('Frequency')\n",
    "\n",
    "plt.tight_layout()\n",
    "plt.show()"
   ]
  },
  {
   "cell_type": "markdown",
   "id": "a7538e1c-b665-40c5-a3dc-000446a253eb",
   "metadata": {},
   "source": [
    "### Power and Sample Size\n",
    "statsmodels has a number of methods for power calculation\n",
    "\n",
    "see e.g.: https://machinelearningmastery.com/statistical-power-and-power-analysis-in-python/"
   ]
  },
  {
   "cell_type": "code",
   "execution_count": 11,
   "id": "fdbbe0c0-f053-4d5a-a15e-719108ec1230",
   "metadata": {},
   "outputs": [
    {
     "name": "stdout",
     "output_type": "stream",
     "text": [
      "Sample Size: 116602.393\n"
     ]
    }
   ],
   "source": [
    "effect_size = sm.stats.proportion_effectsize(0.0121, 0.011)\n",
    "analysis = sm.stats.TTestIndPower()\n",
    "result = analysis.solve_power(effect_size=effect_size, \n",
    "                              alpha=0.05, power=0.8, alternative='larger')\n",
    "print('Sample Size: %.3f' % result)"
   ]
  },
  {
   "cell_type": "code",
   "execution_count": 12,
   "id": "b8b31c0c-6041-43cc-b370-e94c206bfee6",
   "metadata": {},
   "outputs": [
    {
     "name": "stdout",
     "output_type": "stream",
     "text": [
      "Sample Size: 5488.408\n"
     ]
    }
   ],
   "source": [
    "effect_size = sm.stats.proportion_effectsize(0.0165, 0.011)\n",
    "analysis = sm.stats.TTestIndPower()\n",
    "result = analysis.solve_power(effect_size=effect_size, \n",
    "                              alpha=0.05, power=0.8, alternative='larger')\n",
    "print('Sample Size: %.3f' % result)"
   ]
  }
 ],
 "metadata": {
  "kernelspec": {
   "display_name": "opencv",
   "language": "python",
   "name": "opencv"
  },
  "language_info": {
   "codemirror_mode": {
    "name": "ipython",
    "version": 3
   },
   "file_extension": ".py",
   "mimetype": "text/x-python",
   "name": "python",
   "nbconvert_exporter": "python",
   "pygments_lexer": "ipython3",
   "version": "3.7.10"
  }
 },
 "nbformat": 4,
 "nbformat_minor": 5
}
